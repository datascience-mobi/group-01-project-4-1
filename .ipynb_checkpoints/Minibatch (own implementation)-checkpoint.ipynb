{
 "cells": [
  {
   "cell_type": "code",
   "execution_count": 1,
   "metadata": {},
   "outputs": [],
   "source": [
    "# http://cs231n.github.io/python-numpy-tutorial/#numpy\n",
    "# https://chrisalbon.com/python/basics/generating_random_numbers_with_numpy/\n",
    "\n",
    "import numpy as np\n",
    "import matplotlib.pyplot as plt\n",
    "import time\n",
    "import timeit"
   ]
  },
  {
   "cell_type": "markdown",
   "metadata": {},
   "source": [
    "# 1. Finding a convenient way to define a random mini-batch"
   ]
  },
  {
   "cell_type": "code",
   "execution_count": 2,
   "metadata": {},
   "outputs": [
    {
     "name": "stdout",
     "output_type": "stream",
     "text": [
      "[[0.94590453 0.97086001]\n",
      " [0.21323626 0.21686517]\n",
      " [0.75047766 0.48354892]\n",
      " [0.48997121 0.98565729]\n",
      " [0.08059745 0.43454634]\n",
      " [0.83690771 0.90174579]\n",
      " [0.20734547 0.79500853]\n",
      " [0.56187016 0.58368991]\n",
      " [0.89685456 0.12988865]\n",
      " [0.65380755 0.64107351]\n",
      " [0.64591084 0.06622421]\n",
      " [0.156293   0.167753  ]\n",
      " [0.06858868 0.088433  ]\n",
      " [0.31549874 0.71210093]\n",
      " [0.08343281 0.0786258 ]\n",
      " [0.47011578 0.72285348]]\n"
     ]
    },
    {
     "data": {
      "text/plain": [
       "(16, 2)"
      ]
     },
     "execution_count": 2,
     "metadata": {},
     "output_type": "execute_result"
    }
   ],
   "source": [
    "a = np.random.random((16, 2))\n",
    "print(a)\n",
    "a.shape"
   ]
  },
  {
   "cell_type": "code",
   "execution_count": 3,
   "metadata": {},
   "outputs": [
    {
     "name": "stdout",
     "output_type": "stream",
     "text": [
      "16\n",
      "2\n"
     ]
    }
   ],
   "source": [
    "numrows = np.size(a, 0)\n",
    "numcols = np.size(a, 1)\n",
    "print(numrows)\n",
    "print(numcols)"
   ]
  },
  {
   "cell_type": "code",
   "execution_count": 4,
   "metadata": {},
   "outputs": [
    {
     "data": {
      "text/plain": [
       "array([[ 0,  1,  2,  3],\n",
       "       [ 4,  5,  6,  7],\n",
       "       [ 8,  9, 10, 11],\n",
       "       [12, 13, 14, 15]])"
      ]
     },
     "execution_count": 4,
     "metadata": {},
     "output_type": "execute_result"
    }
   ],
   "source": [
    "batch_size = 4\n",
    "batches = np.arange(numrows).reshape(batch_size, batch_size)\n",
    "batches"
   ]
  },
  {
   "cell_type": "code",
   "execution_count": 5,
   "metadata": {},
   "outputs": [
    {
     "name": "stdout",
     "output_type": "stream",
     "text": [
      "[[0.94590453 0.97086001]\n",
      " [0.21323626 0.21686517]\n",
      " [0.75047766 0.48354892]\n",
      " [0.48997121 0.98565729]]\n",
      "[[0.08059745 0.43454634]\n",
      " [0.83690771 0.90174579]\n",
      " [0.20734547 0.79500853]\n",
      " [0.56187016 0.58368991]]\n",
      "[[0.89685456 0.12988865]\n",
      " [0.65380755 0.64107351]\n",
      " [0.64591084 0.06622421]\n",
      " [0.156293   0.167753  ]]\n",
      "[[0.06858868 0.088433  ]\n",
      " [0.31549874 0.71210093]\n",
      " [0.08343281 0.0786258 ]\n",
      " [0.47011578 0.72285348]]\n"
     ]
    }
   ],
   "source": [
    "i = 0\n",
    "while (i < batch_size):\n",
    "    print(a[batches[i]])\n",
    "    i = i + 1"
   ]
  },
  {
   "cell_type": "code",
   "execution_count": 6,
   "metadata": {},
   "outputs": [
    {
     "name": "stdout",
     "output_type": "stream",
     "text": [
      "(4, 4, 2)\n"
     ]
    },
    {
     "data": {
      "text/plain": [
       "0.7950085311113058"
      ]
     },
     "execution_count": 6,
     "metadata": {},
     "output_type": "execute_result"
    }
   ],
   "source": [
    "a[batches]\n",
    "print(a[batches].shape)\n",
    "(a[batches])[1, 2, 1]"
   ]
  },
  {
   "cell_type": "code",
   "execution_count": 7,
   "metadata": {},
   "outputs": [
    {
     "data": {
      "text/plain": [
       "<matplotlib.collections.PathCollection at 0x1eb3f537a58>"
      ]
     },
     "execution_count": 7,
     "metadata": {},
     "output_type": "execute_result"
    },
    {
     "data": {
      "image/png": "[encoded data removed]",
      "text/plain": [
       "<Figure size 432x288 with 1 Axes>"
      ]
     },
     "metadata": {
      "needs_background": "light"
     },
     "output_type": "display_data"
    }
   ],
   "source": [
    "f1= a[:, 0]\n",
    "f2= a[:, 1]\n",
    "\n",
    "plt.scatter(f1, f2, c='green', s=15)\n",
    "\n",
    "X = (list(zip(f1, f2)))\n",
    "\n",
    "# centroid initialization\n",
    "k=2\n",
    "c1 = np.random.choice(f1, size=k)\n",
    "c2 = np.random.choice(f2, size=k)\n",
    "\n",
    "plt.scatter(c1, c2, marker='*',c='red',s=100)"
   ]
  },
  {
   "cell_type": "code",
   "execution_count": 8,
   "metadata": {},
   "outputs": [
    {
     "name": "stdout",
     "output_type": "stream",
     "text": [
      "\n",
      "Distances of a to centroid [[0.83690771 0.21323626]]:\n",
      "[0.7654241  0.62368201 0.2837941  0.84675804 0.78802498 0.68850953\n",
      " 0.85720919 0.4613909  0.10266668 0.46537123 0.24102354 0.68213277\n",
      " 0.77838936 0.72161851 0.76540473 0.62789014]\n",
      "\n",
      "Distances of a to centroid [[0.088433   0.06622421]]:\n",
      "[1.24644428 0.19562349 0.78260018 1.00328965 0.36840546 1.12174449\n",
      " 0.7384218  0.70136545 0.81092452 0.80628785 0.55747784 0.1221191\n",
      " 0.02978301 0.68462806 0.01337166 0.75950229]\n"
     ]
    }
   ],
   "source": [
    "centroid_array = np.array([[np.random.choice(f1, size=k)], \n",
    "                           [np.random.choice(f2, size=k)]])\n",
    "for r in centroid_array:\n",
    "    diff = a - r # Difference between X and c \n",
    "    # as c is an only 1D slice of C, is broadcasted over X along axis 0 (up->down)\n",
    "    \n",
    "    dist = np.linalg.norm(\n",
    "        diff, # Apply norm on differences\n",
    "        axis=1 # Apply ONLY along axis 1 (left->right, i.e. the coordinates of each point)\n",
    "    )\n",
    "\n",
    "    print(f\"\\nDistances of a to centroid {r}:\")\n",
    "    print(dist) "
   ]
  },
  {
   "cell_type": "code",
   "execution_count": null,
   "metadata": {},
   "outputs": [],
   "source": [
    "n_iterations = n_iterations\n",
    "v = np.zeros((k, 1))\n",
    "j = 1\n",
    "ctrnew = centroid_array\n",
    " while (j <= n_iterations):\n",
    "        \n",
    "        batch = a[batches[i]]\n",
    "        t1 = batch[:, 0]\n",
    "        t2 = batch[:, 1]\n",
    "        \n",
    "        y1 = np.random.choice(t1, size=k)\n",
    "        y2 = np.random.choice(t2, size=k)\n",
    "        \n",
    "        while (i < batch_size):\n",
    "        "
   ]
  }
 ],
 "metadata": {
  "kernelspec": {
   "display_name": "Python 3",
   "language": "python",
   "name": "python3"
  },
  "language_info": {
   "codemirror_mode": {
    "name": "ipython",
    "version": 3
   },
   "file_extension": ".py",
   "mimetype": "text/x-python",
   "name": "python",
   "nbconvert_exporter": "python",
   "pygments_lexer": "ipython3",
   "version": "3.7.3"
  }
 },
 "nbformat": 4,
 "nbformat_minor": 2
}
