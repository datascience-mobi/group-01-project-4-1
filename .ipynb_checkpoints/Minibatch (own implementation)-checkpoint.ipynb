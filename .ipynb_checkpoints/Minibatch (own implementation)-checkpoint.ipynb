{
 "cells": [
  {
   "cell_type": "code",
   "execution_count": 1,
   "metadata": {},
   "outputs": [],
   "source": [
    "# http://cs231n.github.io/python-numpy-tutorial/#numpy\n",
    "# https://chrisalbon.com/python/basics/generating_random_numbers_with_numpy/\n",
    "\n",
    "import numpy as np\n",
    "import matplotlib.pyplot as plt\n",
    "import time"
   ]
  },
  {
   "cell_type": "markdown",
   "metadata": {},
   "source": [
    "# 1. Finding a convenient way to define a random mini-batch"
   ]
  },
  {
   "cell_type": "code",
   "execution_count": 2,
   "metadata": {},
   "outputs": [],
   "source": [
    "a = np.random.random((16, 2))\n",
    "\n",
    "start1 = time.time()\n",
    "numrows = np.size(a, 0)\n",
    "numcols = np.size(a, 1)\n",
    "end1 = time.time()"
   ]
  },
  {
   "cell_type": "code",
   "execution_count": 3,
   "metadata": {},
   "outputs": [],
   "source": [
    "start2 = time.time()\n",
    "batch_s = 4\n",
    "batches = np.arange(numrows).reshape(batch_s, batch_s)\n",
    "i = 0\n",
    "while (i < batch_s):\n",
    "    a[batches[i]]\n",
    "    i = i + 1\n",
    "end2 = time.time()"
   ]
  },
  {
   "cell_type": "code",
   "execution_count": 4,
   "metadata": {},
   "outputs": [
    {
     "name": "stdout",
     "output_type": "stream",
     "text": [
      "[[[0.2661163  0.2661163 ]]\n",
      "\n",
      " [[0.13758431 0.85225555]]]\n"
     ]
    },
    {
     "data": {
      "image/png": "[encoded data removed]",
      "text/plain": [
       "<Figure size 432x288 with 1 Axes>"
      ]
     },
     "metadata": {
      "needs_background": "light"
     },
     "output_type": "display_data"
    }
   ],
   "source": [
    "start3 = time.time()\n",
    "f1= a[:, 0]\n",
    "f2= a[:, 1]\n",
    "\n",
    "plt.scatter(f1, f2, c='green', s=15)\n",
    "\n",
    "X = (list(zip(f1, f2)))\n",
    "\n",
    "# centroid initialization\n",
    "k=2\n",
    "c1 = np.random.choice(f1, size=k)\n",
    "c2 = np.random.choice(f2, size=k)\n",
    "\n",
    "plt.scatter(c1, c2, marker='*',c='red',s=100)\n",
    "\n",
    "centroid_array = np.array([[np.random.choice(f1, size=k)], \n",
    "                           [np.random.choice(f2, size=k)]])\n",
    "end3 = time.time()\n",
    "\n",
    "print (centroid_array)"
   ]
  },
  {
   "cell_type": "code",
   "execution_count": 5,
   "metadata": {},
   "outputs": [],
   "source": [
    "start4 = time.time()\n",
    "def dist(cell_loc, cluster_number):\n",
    "\n",
    "    return np.linalg.norm(a[cell_loc, :] - centroid_array[cluster_number - 1, :])\n",
    "\n",
    "def assign_centroids(a_array):\n",
    "    global nearest_centroid\n",
    "    z = 0\n",
    "    nearest_centroid = np.zeros([a_array.shape[0], 1])\n",
    "    \n",
    "    # Loop over all datapoints\n",
    "    while z < a_array.shape[0]:\n",
    "        sml_distance = -1\n",
    "\n",
    "        # Loop over every centroid\n",
    "        j = 1\n",
    "        while j <= k:\n",
    "\n",
    "            if sml_distance == -1 or dist(z, j) < sml_distance:\n",
    "                sml_distance = dist(z, j)\n",
    "                nearest_centroid[z, 0] = j\n",
    "            j += 1\n",
    "        z += 1\n",
    "end4 = time.time()"
   ]
  },
  {
   "cell_type": "code",
   "execution_count": 6,
   "metadata": {},
   "outputs": [
    {
     "name": "stdout",
     "output_type": "stream",
     "text": [
      "\n",
      "MINI-BATCH:\n",
      "\n",
      "group 4_1 algorithm:\n",
      "0.9779396057128906\n"
     ]
    }
   ],
   "source": [
    "start5 = time.time()\n",
    "n_iterations = (numrows // batch_s)\n",
    "v = np.zeros((k, 1))\n",
    "j = 1\n",
    "ctrnew = centroid_array\n",
    "while (j <= n_iterations):\n",
    "        \n",
    "        batch = a[batches[j-1]]\n",
    "        \n",
    "        assign_centroids(batch)\n",
    "        z = 0\n",
    "        \n",
    "        while (z < batch_s):\n",
    "            c = ctrnew[int(nearest_centroid[z, 0])-1, :]\n",
    "            v[int((nearest_centroid[z, 0]-1)), 0] =  int(v[int((nearest_centroid[z, 0]-1)), 0]) + 1\n",
    "            n = 1/v[int((nearest_centroid[z, 0]-1)), 0]\n",
    "            ctrnew[int(nearest_centroid[z, 0])-1, :] = c * (1-n) + a[z, :] * n\n",
    "            z+=1\n",
    "        j+=1\n",
    "        \n",
    "centroid_array = ctrnew\n",
    "assign_centroids(a)\n",
    "nearest_centroid_squeeze = np.squeeze(nearest_centroid.astype(int))\n",
    "print(\"\\nMINI-BATCH:\")\n",
    "print(\"\\ngroup 4_1 algorithm:\")\n",
    "end5 = time.time()\n",
    "print((end1 - start1) + (end2 - start2) + (end3 - start3) + (end4 - start4) + (end5 - start5))"
   ]
  },
  {
   "cell_type": "code",
   "execution_count": 7,
   "metadata": {},
   "outputs": [
    {
     "data": {
      "text/plain": [
       "array([[[0.98416094, 0.13758431]],\n",
       "\n",
       "       [[0.57603517, 0.82105517]]])"
      ]
     },
     "execution_count": 7,
     "metadata": {},
     "output_type": "execute_result"
    }
   ],
   "source": [
    "ctrnew"
   ]
  },
  {
   "cell_type": "code",
   "execution_count": 8,
   "metadata": {},
   "outputs": [
    {
     "data": {
      "text/plain": [
       "<matplotlib.collections.PathCollection at 0x2122f5492e8>"
      ]
     },
     "execution_count": 8,
     "metadata": {},
     "output_type": "execute_result"
    },
    {
     "data": {
      "image/png": "[encoded data removed]",
      "text/plain": [
       "<Figure size 432x288 with 1 Axes>"
      ]
     },
     "metadata": {
      "needs_background": "light"
     },
     "output_type": "display_data"
    }
   ],
   "source": [
    "c3 = ctrnew[0, :]\n",
    "c4 = ctrnew[1, :]\n",
    "\n",
    "plt.scatter(f1, f2, c='green', s=15)\n",
    "\n",
    "X = (list(zip(f1, f2)))\n",
    "\n",
    "plt.scatter(c3, c4, marker='*',c='red',s=100)"
   ]
  },
  {
   "cell_type": "code",
   "execution_count": 9,
   "metadata": {},
   "outputs": [],
   "source": [
    "from sklearn.cluster import MiniBatchKMeans"
   ]
  },
  {
   "cell_type": "code",
   "execution_count": 10,
   "metadata": {},
   "outputs": [
    {
     "data": {
      "text/plain": [
       "array([[0.39708413, 0.70717633],\n",
       "       [0.86613918, 0.35139216]])"
      ]
     },
     "execution_count": 10,
     "metadata": {},
     "output_type": "execute_result"
    }
   ],
   "source": [
    "kmeans = MiniBatchKMeans(n_clusters=k, \n",
    "                         random_state=0, \n",
    "                         batch_size=batch_s)\n",
    "i = 0\n",
    "\n",
    "while (i < n_iterations):\n",
    "    kmeans = kmeans.partial_fit(a[(0 + batch_s * i):(batch_s + batch_s * i),:])\n",
    "    i+=1\n",
    "    \n",
    "kmeans.cluster_centers_\n"
   ]
  },
  {
   "cell_type": "code",
   "execution_count": 15,
   "metadata": {},
   "outputs": [
    {
     "data": {
      "text/plain": [
       "array([[0.8285529 , 0.59426701],\n",
       "       [0.29917886, 0.68463448]])"
      ]
     },
     "execution_count": 15,
     "metadata": {},
     "output_type": "execute_result"
    }
   ],
   "source": [
    "kmeans = MiniBatchKMeans(n_clusters=k, \n",
    "                         random_state=0, \n",
    "                         batch_size=batch_s,\n",
    "                        max_iter=n_iterations).fit(a)\n",
    "kmeans.cluster_centers_"
   ]
  },
  {
   "cell_type": "code",
   "execution_count": 16,
   "metadata": {},
   "outputs": [
    {
     "data": {
      "text/plain": [
       "<matplotlib.collections.PathCollection at 0x21230e6b8d0>"
      ]
     },
     "execution_count": 16,
     "metadata": {},
     "output_type": "execute_result"
    },
    {
     "data": {
      "image/png": "[encoded data removed]",
      "text/plain": [
       "<Figure size 432x288 with 1 Axes>"
      ]
     },
     "metadata": {
      "needs_background": "light"
     },
     "output_type": "display_data"
    }
   ],
   "source": [
    "c3 = kmeans.cluster_centers_[0, :]\n",
    "c4 = kmeans.cluster_centers_[1, :]\n",
    "\n",
    "plt.scatter(f1, f2, c='green', s=15)\n",
    "\n",
    "X = (list(zip(f1, f2)))\n",
    "\n",
    "plt.scatter(c3, c4, marker='*',c='red',s=100)"
   ]
  },
  {
   "cell_type": "code",
   "execution_count": null,
   "metadata": {},
   "outputs": [],
   "source": []
  }
 ],
 "metadata": {
  "kernelspec": {
   "display_name": "Python 3",
   "language": "python",
   "name": "python3"
  },
  "language_info": {
   "codemirror_mode": {
    "name": "ipython",
    "version": 3
   },
   "file_extension": ".py",
   "mimetype": "text/x-python",
   "name": "python",
   "nbconvert_exporter": "python",
   "pygments_lexer": "ipython3",
   "version": "3.7.3"
  }
 },
 "nbformat": 4,
 "nbformat_minor": 2
}
