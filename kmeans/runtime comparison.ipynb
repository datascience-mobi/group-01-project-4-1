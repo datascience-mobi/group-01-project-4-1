{
 "cells": [
  {
   "cell_type": "code",
   "execution_count": 23,
   "metadata": {},
   "outputs": [],
   "source": [
    "import time\n",
    "import warnings\n",
    "\n",
    "from copy import deepcopy\n",
    "\n",
    "import numpy as np\n",
    "import matplotlib.pyplot as plt\n",
    "\n",
    "from sklearn import cluster, datasets, mixture\n",
    "from sklearn.neighbors import kneighbors_graph\n",
    "from sklearn.preprocessing import StandardScaler\n",
    "from sklearn.cluster import KMeans\n",
    "\n",
    "from itertools import cycle, islice\n",
    "\n",
    "import timeit"
   ]
  },
  {
   "cell_type": "code",
   "execution_count": 24,
   "metadata": {},
   "outputs": [],
   "source": [
    "# distance calculator\n",
    "\n",
    "def dist(a, b, ax=1):\n",
    "    return np.linalg.norm(a - b, axis=ax)\n",
    "\n"
   ]
  },
  {
   "cell_type": "code",
   "execution_count": 25,
   "metadata": {},
   "outputs": [],
   "source": [
    "n_samples=1000\n"
   ]
  },
  {
   "cell_type": "markdown",
   "metadata": {},
   "source": [
    "# example dataset -> blobs"
   ]
  },
  {
   "cell_type": "code",
   "execution_count": 26,
   "metadata": {},
   "outputs": [
    {
     "data": {
      "image/png": "[encoded data removed]",
      "text/plain": [
       "<Figure size 432x288 with 1 Axes>"
      ]
     },
     "metadata": {
      "needs_background": "light"
     },
     "output_type": "display_data"
    }
   ],
   "source": [
    "blobs = datasets.make_blobs(n_samples=n_samples, random_state=15)\n",
    "\n",
    "points_blobs=blobs[0]\n",
    "\n",
    "f1=points_blobs[0:((n_samples)), 0]\n",
    "f2=points_blobs[0:((n_samples)), 1]\n",
    "\n",
    "plt.scatter(f1, f2, c='black', s=7)\n",
    "\n",
    "X = np.array(list(zip(f1, f2)))"
   ]
  },
  {
   "cell_type": "code",
   "execution_count": 27,
   "metadata": {},
   "outputs": [
    {
     "name": "stdout",
     "output_type": "stream",
     "text": [
      "0.15981914999993024\n"
     ]
    }
   ],
   "source": [
    "# for the runtime comparison we used this code,where we are able to choose how often our code should run -> calculate average computationen time, more codes and plots in \"runtime comparison\"\n",
    "\n",
    "times_to_repeat = 10\n",
    "\n",
    "sum_runtime = 0\n",
    "\n",
    "for i in range (times_to_repeat):\n",
    "    \n",
    "\n",
    "    start_time = timeit.default_timer()\n",
    "\n",
    "\n",
    "    k=2\n",
    "   \n",
    "    Indecies_centroid = np.random.choice(n_samples,size=k) # for initialization we choose some random datapoint in order to avoid that no data points were assigned to random centroid\n",
    "    \n",
    "      \n",
    "    C=X[Indecies_centroid]\n",
    "    \n",
    "    clusters = np.zeros(len(X))\n",
    "    C_old = np.zeros(C.shape)\n",
    "    error = dist(C, C_old) # Konvergenz\n",
    "    from copy import deepcopy\n",
    "\n",
    "    while error.all() != 0:\n",
    "        for i in range(len(X)):\n",
    "                distances = dist(C,[X[i]])\n",
    "                cluster = np.argmin(distances)\n",
    "                clusters[i] = cluster\n",
    "        C_old = deepcopy(C)\n",
    "        for i in range(k):\n",
    "            points = [X[j] for j in range(len(X)) if clusters[j] == i]\n",
    "            C[i] = np.mean(points, axis=0)\n",
    "        error = dist(C, C_old)\n",
    "        \n",
    "\n",
    "    runtime= timeit.default_timer() - start_time\n",
    "    \n",
    "    sum_runtime= sum_runtime+runtime\n",
    "    \n",
    "    own_k2= sum_runtime/times_to_repeat\n",
    "    \n",
    "   \n",
    "print(own_k2)\n"
   ]
  },
  {
   "cell_type": "code",
   "execution_count": 28,
   "metadata": {},
   "outputs": [
    {
     "name": "stdout",
     "output_type": "stream",
     "text": [
      "0.14674785999977757\n"
     ]
    }
   ],
   "source": [
    "# for the runtime comparison we used this code,where we are able to choose how often our code should run -> calculate average computationen time, more codes and plots in \"runtime comparison\"\n",
    "\n",
    "times_to_repeat = 10\n",
    "\n",
    "sum_runtime = 0\n",
    "\n",
    "for i in range (times_to_repeat):\n",
    "    \n",
    "\n",
    "    start_time = timeit.default_timer()\n",
    "\n",
    "\n",
    "    k=3\n",
    "   \n",
    "    Indecies_centroid = np.random.choice(n_samples,size=k) # for initialization we choose some random datapoint in order to avoid that no data points were assigned to random centroid\n",
    "    \n",
    "      \n",
    "    C=X[Indecies_centroid]\n",
    "    \n",
    "    clusters = np.zeros(len(X))\n",
    "    C_old = np.zeros(C.shape)\n",
    "    error = dist(C, C_old) # Konvergenz\n",
    "    from copy import deepcopy\n",
    "\n",
    "    while error.all() != 0:\n",
    "        for i in range(len(X)):\n",
    "                distances = dist(C,[X[i]])\n",
    "                cluster = np.argmin(distances)\n",
    "                clusters[i] = cluster\n",
    "        C_old = deepcopy(C)\n",
    "        for i in range(k):\n",
    "            points = [X[j] for j in range(len(X)) if clusters[j] == i]\n",
    "            C[i] = np.mean(points, axis=0)\n",
    "        error = dist(C, C_old)\n",
    "        \n",
    "\n",
    "    runtime= timeit.default_timer() - start_time\n",
    "    \n",
    "    sum_runtime= sum_runtime+runtime\n",
    "    \n",
    "    own_k3= sum_runtime/times_to_repeat\n",
    "    \n",
    "   \n",
    "print(own_k3)\n"
   ]
  },
  {
   "cell_type": "code",
   "execution_count": 29,
   "metadata": {},
   "outputs": [
    {
     "name": "stdout",
     "output_type": "stream",
     "text": [
      "0.1652513800003362\n"
     ]
    }
   ],
   "source": [
    "# for the runtime comparison we used this code,where we are able to choose how often our code should run -> calculate average computationen time, more codes and plots in \"runtime comparison\"\n",
    "\n",
    "times_to_repeat = 10\n",
    "\n",
    "sum_runtime = 0\n",
    "\n",
    "for i in range (times_to_repeat):\n",
    "    \n",
    "\n",
    "    start_time = timeit.default_timer()\n",
    "\n",
    "\n",
    "    k=5\n",
    "   \n",
    "    Indecies_centroid = np.random.choice(n_samples,size=k) # for initialization we choose some random datapoint in order to avoid that no data points were assigned to random centroid\n",
    "    \n",
    "      \n",
    "    C=X[Indecies_centroid]\n",
    "    \n",
    "    clusters = np.zeros(len(X))\n",
    "    C_old = np.zeros(C.shape)\n",
    "    error = dist(C, C_old) # Konvergenz\n",
    "    from copy import deepcopy\n",
    "\n",
    "    while error.all() != 0:\n",
    "        for i in range(len(X)):\n",
    "                distances = dist(C,[X[i]])\n",
    "                cluster = np.argmin(distances)\n",
    "                clusters[i] = cluster\n",
    "        C_old = deepcopy(C)\n",
    "        for i in range(k):\n",
    "            points = [X[j] for j in range(len(X)) if clusters[j] == i]\n",
    "            C[i] = np.mean(points, axis=0)\n",
    "        error = dist(C, C_old)\n",
    "        \n",
    "\n",
    "    runtime= timeit.default_timer() - start_time\n",
    "    \n",
    "    sum_runtime= sum_runtime+runtime\n",
    "    \n",
    "    own_k5= sum_runtime/times_to_repeat\n",
    "    \n",
    "   \n",
    "print(own_k5)\n"
   ]
  },
  {
   "cell_type": "code",
   "execution_count": 30,
   "metadata": {},
   "outputs": [
    {
     "name": "stdout",
     "output_type": "stream",
     "text": [
      "0.4169959300003029\n"
     ]
    }
   ],
   "source": [
    "# for the runtime comparison we used this code,where we are able to choose how often our code should run -> calculate average computationen time, more codes and plots in \"runtime comparison\"\n",
    "\n",
    "times_to_repeat = 10\n",
    "\n",
    "sum_runtime = 0\n",
    "\n",
    "for i in range (times_to_repeat):\n",
    "    \n",
    "\n",
    "    start_time = timeit.default_timer()\n",
    "\n",
    "\n",
    "    k=10\n",
    "   \n",
    "    Indecies_centroid = np.random.choice(n_samples,size=k) # for initialization we choose some random datapoint in order to avoid that no data points were assigned to random centroid\n",
    "    \n",
    "      \n",
    "    C=X[Indecies_centroid]\n",
    "    \n",
    "    clusters = np.zeros(len(X))\n",
    "    C_old = np.zeros(C.shape)\n",
    "    error = dist(C, C_old) # Konvergenz\n",
    "    from copy import deepcopy\n",
    "\n",
    "    while error.all() != 0:\n",
    "        for i in range(len(X)):\n",
    "                distances = dist(C,[X[i]])\n",
    "                cluster = np.argmin(distances)\n",
    "                clusters[i] = cluster\n",
    "        C_old = deepcopy(C)\n",
    "        for i in range(k):\n",
    "            points = [X[j] for j in range(len(X)) if clusters[j] == i]\n",
    "            C[i] = np.mean(points, axis=0)\n",
    "        error = dist(C, C_old)\n",
    "        \n",
    "\n",
    "    runtime= timeit.default_timer() - start_time\n",
    "    \n",
    "    sum_runtime= sum_runtime+runtime\n",
    "    \n",
    "    own_k10= sum_runtime/times_to_repeat\n",
    "    \n",
    "   \n",
    "print(own_k10)\n"
   ]
  },
  {
   "cell_type": "markdown",
   "metadata": {},
   "source": [
    "## scikit learn implementation"
   ]
  },
  {
   "cell_type": "code",
   "execution_count": 31,
   "metadata": {},
   "outputs": [
    {
     "name": "stdout",
     "output_type": "stream",
     "text": [
      "0.03728813999969134\n"
     ]
    }
   ],
   "source": [
    "times_to_repeat = 10\n",
    "\n",
    "sum_runtime = 0\n",
    "\n",
    "for i in range (times_to_repeat):\n",
    "    \n",
    "\n",
    "    start_time = timeit.default_timer()\n",
    "\n",
    "    kmeans = KMeans(n_clusters=2).fit_predict(X)\n",
    "\n",
    "\n",
    "    runtime= timeit.default_timer() - start_time\n",
    "    \n",
    "    sum_runtime= sum_runtime+runtime\n",
    "    \n",
    "    scikit_k2= sum_runtime/times_to_repeat\n",
    "    \n",
    "print(scikit_k2)\n",
    "    \n",
    "\n",
    "   \n",
    "\n"
   ]
  },
  {
   "cell_type": "code",
   "execution_count": 32,
   "metadata": {},
   "outputs": [
    {
     "data": {
      "text/plain": [
       "<matplotlib.collections.PathCollection at 0x27c42adce10>"
      ]
     },
     "execution_count": 32,
     "metadata": {},
     "output_type": "execute_result"
    },
    {
     "data": {
      "image/png": "[encoded data removed]",
      "text/plain": [
       "<Figure size 432x288 with 1 Axes>"
      ]
     },
     "metadata": {
      "needs_background": "light"
     },
     "output_type": "display_data"
    }
   ],
   "source": [
    "plt.scatter(X[:, 0], X[:, 1], c=kmeans,s=7)"
   ]
  },
  {
   "cell_type": "code",
   "execution_count": 33,
   "metadata": {},
   "outputs": [
    {
     "name": "stdout",
     "output_type": "stream",
     "text": [
      "0.058675949999633305\n"
     ]
    }
   ],
   "source": [
    "times_to_repeat = 10\n",
    "\n",
    "sum_runtime = 0\n",
    "\n",
    "for i in range (times_to_repeat):\n",
    "    \n",
    "\n",
    "    start_time = timeit.default_timer()\n",
    "\n",
    "    kmeans = KMeans(n_clusters=3).fit_predict(X)\n",
    "\n",
    "\n",
    "    runtime= timeit.default_timer() - start_time\n",
    "    \n",
    "    sum_runtime= sum_runtime+runtime\n",
    "    \n",
    "    scikit_k3= sum_runtime/times_to_repeat\n",
    "    \n",
    "print(scikit_k3)\n",
    "    \n",
    "\n",
    "   \n",
    "\n"
   ]
  },
  {
   "cell_type": "code",
   "execution_count": 34,
   "metadata": {},
   "outputs": [
    {
     "name": "stdout",
     "output_type": "stream",
     "text": [
      "0.11591608000017004\n"
     ]
    }
   ],
   "source": [
    "times_to_repeat = 10\n",
    "\n",
    "sum_runtime = 0\n",
    "\n",
    "for i in range (times_to_repeat):\n",
    "    \n",
    "\n",
    "    start_time = timeit.default_timer()\n",
    "\n",
    "    kmeans = KMeans(n_clusters=5).fit_predict(X)\n",
    "\n",
    "\n",
    "    runtime= timeit.default_timer() - start_time\n",
    "    \n",
    "    sum_runtime= sum_runtime+runtime\n",
    "    \n",
    "    scikit_k5= sum_runtime/times_to_repeat\n",
    "    \n",
    "print(scikit_k5)\n",
    "    \n",
    "\n",
    "   \n",
    "\n"
   ]
  },
  {
   "cell_type": "code",
   "execution_count": 35,
   "metadata": {},
   "outputs": [
    {
     "name": "stdout",
     "output_type": "stream",
     "text": [
      "0.2121446700006345\n"
     ]
    }
   ],
   "source": [
    "times_to_repeat = 10\n",
    "\n",
    "sum_runtime = 0\n",
    "\n",
    "for i in range (times_to_repeat):\n",
    "    \n",
    "\n",
    "    start_time = timeit.default_timer()\n",
    "\n",
    "    kmeans = KMeans(n_clusters=10).fit_predict(X)\n",
    "\n",
    "\n",
    "    runtime= timeit.default_timer() - start_time\n",
    "    \n",
    "    sum_runtime= sum_runtime+runtime\n",
    "    \n",
    "    scikit_k10= sum_runtime/times_to_repeat\n",
    "    \n",
    "print(scikit_k10)\n",
    "    \n",
    "\n",
    "   \n",
    "\n"
   ]
  },
  {
   "cell_type": "code",
   "execution_count": 37,
   "metadata": {},
   "outputs": [
    {
     "data": {
      "image/png": "[encoded data removed]",
      "text/plain": [
       "<Figure size 432x288 with 1 Axes>"
      ]
     },
     "metadata": {
      "needs_background": "light"
     },
     "output_type": "display_data"
    }
   ],
   "source": [
    "\n",
    "# data to plot\n",
    "n_groups = 4\n",
    "means_own = (own_k2,own_k3, own_k5, own_k10)\n",
    "means_scikit = (scikit_k2,scikit_k3,scikit_k5,scikit_k10)\n",
    "\n",
    "# create plot\n",
    "fig, ax = plt.subplots()\n",
    "index = np.arange(n_groups)\n",
    "bar_width = 0.35\n",
    "opacity = 0.8\n",
    "\n",
    "rects1 = plt.bar(index, means_own, bar_width,\n",
    "alpha=opacity,\n",
    "color='b',\n",
    "label='own implementation')\n",
    "\n",
    "rects2 = plt.bar(index + bar_width, means_scikit, bar_width,\n",
    "alpha=opacity,\n",
    "color='g',\n",
    "label='Scikit learn implementation')\n",
    "\n",
    "plt.xlabel('k')\n",
    "plt.ylabel('average runtime')\n",
    "plt.title('runtime comparison, blobs , n=1000')\n",
    "plt.xticks(index + bar_width, ('2', '3', '5', '20'))\n",
    "plt.legend()\n",
    "\n",
    "plt.tight_layout()\n",
    "plt.show()\n"
   ]
  },
  {
   "cell_type": "code",
   "execution_count": null,
   "metadata": {},
   "outputs": [],
   "source": []
  },
  {
   "cell_type": "code",
   "execution_count": null,
   "metadata": {},
   "outputs": [],
   "source": []
  },
  {
   "cell_type": "code",
   "execution_count": null,
   "metadata": {},
   "outputs": [],
   "source": []
  },
  {
   "cell_type": "code",
   "execution_count": null,
   "metadata": {},
   "outputs": [],
   "source": []
  }
 ],
 "metadata": {
  "kernelspec": {
   "display_name": "Python 3",
   "language": "python",
   "name": "python3"
  },
  "language_info": {
   "codemirror_mode": {
    "name": "ipython",
    "version": 3
   },
   "file_extension": ".py",
   "mimetype": "text/x-python",
   "name": "python",
   "nbconvert_exporter": "python",
   "pygments_lexer": "ipython3",
   "version": "3.7.3"
  }
 },
 "nbformat": 4,
 "nbformat_minor": 2
}
