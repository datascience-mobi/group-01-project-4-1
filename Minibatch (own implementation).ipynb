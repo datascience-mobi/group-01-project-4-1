{
 "cells": [
  {
   "cell_type": "code",
   "execution_count": 1,
   "metadata": {},
   "outputs": [],
   "source": [
    "# http://cs231n.github.io/python-numpy-tutorial/#numpy\n",
    "# https://chrisalbon.com/python/basics/generating_random_numbers_with_numpy/\n",
    "\n",
    "import numpy as np\n",
    "import matplotlib.pyplot as plt\n",
    "import time"
   ]
  },
  {
   "cell_type": "markdown",
   "metadata": {},
   "source": [
    "# 1. Finding a convenient way to define a random mini-batch"
   ]
  },
  {
   "cell_type": "code",
   "execution_count": 2,
   "metadata": {},
   "outputs": [],
   "source": [
    "a = np.random.random((16, 2))\n",
    "\n",
    "start1 = time.time()\n",
    "numrows = np.size(a, 0)\n",
    "numcols = np.size(a, 1)\n",
    "end1 = time.time()"
   ]
  },
  {
   "cell_type": "code",
   "execution_count": 3,
   "metadata": {},
   "outputs": [
    {
     "name": "stdout",
     "output_type": "stream",
     "text": [
      "16\n",
      "4.0\n"
     ]
    }
   ],
   "source": [
    "start2 = time.time()\n",
    "batch_s = 4\n",
    "i = 0\n",
    "neurows = numrows\n",
    "while (numrows / batch_s) != (numrows // batch_s):\n",
    "    numrows = numrows - i\n",
    "    i += 1\n",
    "end2 = time.time()\n",
    "print(numrows)\n",
    "print(numrows / batch_s)"
   ]
  },
  {
   "cell_type": "code",
   "execution_count": 4,
   "metadata": {},
   "outputs": [
    {
     "name": "stdout",
     "output_type": "stream",
     "text": [
      "[[0.87767567 0.36408295]\n",
      " [0.8873469  0.15094616]\n",
      " [0.15194528 0.69092228]\n",
      " [0.48528166 0.52541072]]\n",
      "[[0.40031543 0.94615827]\n",
      " [0.28383845 0.26804516]\n",
      " [0.46457177 0.983427  ]\n",
      " [0.45254976 0.84792547]]\n",
      "[[0.2340468  0.09924119]\n",
      " [0.5477691  0.69808675]\n",
      " [0.6159276  0.2428132 ]\n",
      " [0.77449724 0.53017806]]\n",
      "[[0.84740934 0.91768627]\n",
      " [0.16231866 0.71670216]\n",
      " [0.20078713 0.44609015]\n",
      " [0.09469119 0.18087668]]\n"
     ]
    }
   ],
   "source": [
    "batches = np.arange(numrows).reshape(batch_s, (numrows // batch_s))\n",
    "i = 0\n",
    "while (i < (numrows // batch_s)):\n",
    "    print(a[batches[i]])\n",
    "    i = i + 1"
   ]
  },
  {
   "cell_type": "code",
   "execution_count": 5,
   "metadata": {},
   "outputs": [
    {
     "name": "stdout",
     "output_type": "stream",
     "text": [
      "[[[0.46457177 0.77449724]]\n",
      "\n",
      " [[0.983427   0.71670216]]]\n"
     ]
    },
    {
     "data": {
      "image/png": "[encoded data removed]",
      "text/plain": [
       "<Figure size 432x288 with 1 Axes>"
      ]
     },
     "metadata": {
      "needs_background": "light"
     },
     "output_type": "display_data"
    }
   ],
   "source": [
    "start3 = time.time()\n",
    "f1= a[:, 0]\n",
    "f2= a[:, 1]\n",
    "\n",
    "plt.scatter(f1, f2, c='green', s=15)\n",
    "\n",
    "X = (list(zip(f1, f2)))\n",
    "\n",
    "# centroid initialization\n",
    "k=2\n",
    "c1 = np.random.choice(f1, size=k)\n",
    "c2 = np.random.choice(f2, size=k)\n",
    "\n",
    "plt.scatter(c1, c2, marker='*',c='red',s=100)\n",
    "\n",
    "centroid_array = np.array([[np.random.choice(f1, size=k)], \n",
    "                           [np.random.choice(f2, size=k)]])\n",
    "end3 = time.time()\n",
    "\n",
    "print (centroid_array)"
   ]
  },
  {
   "cell_type": "code",
   "execution_count": 6,
   "metadata": {},
   "outputs": [],
   "source": [
    "start4 = time.time()\n",
    "def dist(cell_loc, cluster_number):\n",
    "\n",
    "    return np.linalg.norm(a[cell_loc, :] - centroid_array[cluster_number - 1, :])\n",
    "\n",
    "def assign_centroids(a_array):\n",
    "    global nearest_centroid\n",
    "    z = 0\n",
    "    nearest_centroid = np.zeros([numrows, 1])\n",
    "    \n",
    "    # Loop over all datapoints\n",
    "    while z < a_array.shape[0]:\n",
    "        sml_distance = -1\n",
    "\n",
    "        # Loop over every centroid\n",
    "        j = 1\n",
    "        while j <= k:\n",
    "\n",
    "            if sml_distance == -1 or dist(z, j) < sml_distance:\n",
    "                sml_distance = dist(z, j)\n",
    "                nearest_centroid[z, 0] = j\n",
    "            j += 1\n",
    "        z += 1\n",
    "end4 = time.time()"
   ]
  },
  {
   "cell_type": "code",
   "execution_count": 17,
   "metadata": {},
   "outputs": [
    {
     "name": "stdout",
     "output_type": "stream",
     "text": [
      "\n",
      "MINI-BATCH:\n",
      "\n",
      "group 4_1 algorithm:\n",
      "0.04285788536071777\n"
     ]
    }
   ],
   "source": [
    "start5 = time.time()\n",
    "n_iterations = (numrows // batch_s)\n",
    "v = np.zeros((k, 1))\n",
    "j = 1\n",
    "ctrnew = centroid_array\n",
    "while (j <= n_iterations):\n",
    "    \n",
    "        batch = (a[batches[j-1]])\n",
    "        \n",
    "        assign_centroids(batch)\n",
    "        z = 0\n",
    "        \n",
    "        while (z < batch_s):\n",
    "            c = ctrnew[int(nearest_centroid[i, 0])-1, :]\n",
    "            v[int((nearest_centroid[i, 0]-1)), 0] =  int(v[int((nearest_centroid[i, 0]-1)), 0]) + 1\n",
    "            n = 1/v[int((nearest_centroid[i, 0]-1)), 0]\n",
    "            ctrnew[int(nearest_centroid[i, 0])-1, :] = c * (1-n) + a[i, :] * n\n",
    "            z+=1\n",
    "        j+=1\n",
    "        \n",
    "centroid_array = ctrnew\n",
    "assign_centroids(a)\n",
    "nearest_centroid_squeeze = np.squeeze(nearest_centroid.astype(int))\n",
    "print(\"\\nMINI-BATCH:\")\n",
    "print(\"\\ngroup 4_1 algorithm:\")\n",
    "end5 = time.time()\n",
    "print((end1 - start1) + (end2 - start2) + (end3 - start3) + (end4 - start4) + (end5 - start5))"
   ]
  },
  {
   "cell_type": "code",
   "execution_count": 18,
   "metadata": {},
   "outputs": [
    {
     "data": {
      "text/plain": [
       "array([[[0.46457177, 0.77449724]],\n",
       "\n",
       "       [[0.40031543, 0.94615827]]])"
      ]
     },
     "execution_count": 18,
     "metadata": {},
     "output_type": "execute_result"
    }
   ],
   "source": [
    "ctrnew"
   ]
  },
  {
   "cell_type": "code",
   "execution_count": 9,
   "metadata": {},
   "outputs": [
    {
     "data": {
      "text/plain": [
       "<matplotlib.collections.PathCollection at 0x1e6e8a91898>"
      ]
     },
     "execution_count": 9,
     "metadata": {},
     "output_type": "execute_result"
    },
    {
     "data": {
      "image/png": "[encoded data removed]",
      "text/plain": [
       "<Figure size 432x288 with 1 Axes>"
      ]
     },
     "metadata": {
      "needs_background": "light"
     },
     "output_type": "display_data"
    }
   ],
   "source": [
    "c3 = ctrnew[0, :]\n",
    "c4 = ctrnew[1, :]\n",
    "\n",
    "plt.scatter(f1, f2, c='green', s=15)\n",
    "\n",
    "X = (list(zip(f1, f2)))\n",
    "\n",
    "plt.scatter(c3, c4, marker='*',c='red',s=100)"
   ]
  },
  {
   "cell_type": "code",
   "execution_count": 10,
   "metadata": {},
   "outputs": [],
   "source": [
    "from sklearn.cluster import MiniBatchKMeans"
   ]
  },
  {
   "cell_type": "code",
   "execution_count": 11,
   "metadata": {},
   "outputs": [
    {
     "data": {
      "text/plain": [
       "array([[0.78886185, 0.32200509],\n",
       "       [0.36046038, 0.61004768]])"
      ]
     },
     "execution_count": 11,
     "metadata": {},
     "output_type": "execute_result"
    }
   ],
   "source": [
    "kmeans = MiniBatchKMeans(n_clusters=k, \n",
    "                         random_state=0, \n",
    "                         batch_size=batch_s)\n",
    "i = 0\n",
    "\n",
    "while (i < n_iterations):\n",
    "    kmeans = kmeans.partial_fit(a[(0 + batch_s * i):(batch_s + batch_s * i),:])\n",
    "    i+=1\n",
    "    \n",
    "kmeans.cluster_centers_\n"
   ]
  },
  {
   "cell_type": "code",
   "execution_count": 12,
   "metadata": {},
   "outputs": [
    {
     "data": {
      "text/plain": [
       "array([[0.53732422, 0.71557162],\n",
       "       [0.33629483, 0.22972364]])"
      ]
     },
     "execution_count": 12,
     "metadata": {},
     "output_type": "execute_result"
    }
   ],
   "source": [
    "kmeans = MiniBatchKMeans(n_clusters=k, \n",
    "                         random_state=0, \n",
    "                         batch_size=batch_s,\n",
    "                        max_iter=n_iterations).fit(a)\n",
    "kmeans.cluster_centers_"
   ]
  },
  {
   "cell_type": "code",
   "execution_count": 13,
   "metadata": {},
   "outputs": [
    {
     "data": {
      "text/plain": [
       "<matplotlib.collections.PathCollection at 0x1e6ea2f0c88>"
      ]
     },
     "execution_count": 13,
     "metadata": {},
     "output_type": "execute_result"
    },
    {
     "data": {
      "image/png": "[encoded data removed]",
      "text/plain": [
       "<Figure size 432x288 with 1 Axes>"
      ]
     },
     "metadata": {
      "needs_background": "light"
     },
     "output_type": "display_data"
    }
   ],
   "source": [
    "c3 = kmeans.cluster_centers_[0, :]\n",
    "c4 = kmeans.cluster_centers_[1, :]\n",
    "\n",
    "plt.scatter(f1, f2, c='green', s=15)\n",
    "\n",
    "X = (list(zip(f1, f2)))\n",
    "\n",
    "plt.scatter(c3, c4, marker='*',c='red',s=100)"
   ]
  },
  {
   "cell_type": "code",
   "execution_count": null,
   "metadata": {},
   "outputs": [],
   "source": []
  }
 ],
 "metadata": {
  "kernelspec": {
   "display_name": "Python 3",
   "language": "python",
   "name": "python3"
  },
  "language_info": {
   "codemirror_mode": {
    "name": "ipython",
    "version": 3
   },
   "file_extension": ".py",
   "mimetype": "text/x-python",
   "name": "python",
   "nbconvert_exporter": "python",
   "pygments_lexer": "ipython3",
   "version": "3.7.3"
  }
 },
 "nbformat": 4,
 "nbformat_minor": 2
}
