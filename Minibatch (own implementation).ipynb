{
 "cells": [
  {
   "cell_type": "code",
   "execution_count": 1,
   "metadata": {},
   "outputs": [
    {
     "name": "stdout",
     "output_type": "stream",
     "text": [
      "[[0.69535076 0.64307828]\n",
      " [0.44756505 0.54541529]\n",
      " [0.52775284 0.07849957]\n",
      " [0.43296914 0.82074184]\n",
      " [0.22456371 0.94616332]\n",
      " [0.25800239 0.1087998 ]\n",
      " [0.29211538 0.83664266]\n",
      " [0.12909348 0.52428984]\n",
      " [0.72785343 0.55155505]\n",
      " [0.53339705 0.98540498]\n",
      " [0.23198682 0.60715173]\n",
      " [0.47983311 0.59547173]\n",
      " [0.25295823 0.58561309]\n",
      " [0.45954739 0.77077726]\n",
      " [0.84165523 0.33316177]\n",
      " [0.07806568 0.64724798]]\n"
     ]
    },
    {
     "data": {
      "text/plain": [
       "(16, 2)"
      ]
     },
     "execution_count": 1,
     "metadata": {},
     "output_type": "execute_result"
    }
   ],
   "source": [
    "# http://cs231n.github.io/python-numpy-tutorial/#numpy\n",
    "# https://chrisalbon.com/python/basics/generating_random_numbers_with_numpy/\n",
    "\n",
    "import numpy as np\n",
    "a = np.random.random((16, 2))\n",
    "print(a)\n",
    "a.shape"
   ]
  },
  {
   "cell_type": "markdown",
   "metadata": {},
   "source": [
    "# 1. Finding a convenient way to define a random mini-batch"
   ]
  },
  {
   "cell_type": "code",
   "execution_count": 2,
   "metadata": {},
   "outputs": [
    {
     "name": "stdout",
     "output_type": "stream",
     "text": [
      "16\n",
      "2\n"
     ]
    }
   ],
   "source": [
    "numrows = np.size(a, 0)\n",
    "numcols = np.size(a, 1)\n",
    "print(numrows)\n",
    "print(numcols)"
   ]
  },
  {
   "cell_type": "code",
   "execution_count": 32,
   "metadata": {},
   "outputs": [
    {
     "data": {
      "text/plain": [
       "array([[ 0,  1,  2,  3],\n",
       "       [ 4,  5,  6,  7],\n",
       "       [ 8,  9, 10, 11],\n",
       "       [12, 13, 14, 15]])"
      ]
     },
     "execution_count": 32,
     "metadata": {},
     "output_type": "execute_result"
    }
   ],
   "source": [
    "batch_size = 4\n",
    "batches = np.arange(numrows).reshape(batch_size, batch_size)\n",
    "batches"
   ]
  },
  {
   "cell_type": "code",
   "execution_count": 46,
   "metadata": {},
   "outputs": [],
   "source": [
    "batch0 = a[batches[0], :]\n",
    "batch1 = a[batches[1], :]\n",
    "batch2 = a[batches[2], :]\n",
    "batch3 = a[batches[3], :]"
   ]
  },
  {
   "cell_type": "code",
   "execution_count": 53,
   "metadata": {},
   "outputs": [
    {
     "data": {
      "text/plain": [
       "array([[[0.69535076, 0.64307828],\n",
       "        [0.44756505, 0.54541529],\n",
       "        [0.52775284, 0.07849957],\n",
       "        [0.43296914, 0.82074184]],\n",
       "\n",
       "       [[0.22456371, 0.94616332],\n",
       "        [0.25800239, 0.1087998 ],\n",
       "        [0.29211538, 0.83664266],\n",
       "        [0.12909348, 0.52428984]],\n",
       "\n",
       "       [[0.72785343, 0.55155505],\n",
       "        [0.53339705, 0.98540498],\n",
       "        [0.23198682, 0.60715173],\n",
       "        [0.47983311, 0.59547173]],\n",
       "\n",
       "       [[0.25295823, 0.58561309],\n",
       "        [0.45954739, 0.77077726],\n",
       "        [0.84165523, 0.33316177],\n",
       "        [0.07806568, 0.64724798]]])"
      ]
     },
     "execution_count": 53,
     "metadata": {},
     "output_type": "execute_result"
    }
   ],
   "source": [
    "a[batches]"
   ]
  },
  {
   "cell_type": "code",
   "execution_count": null,
   "metadata": {},
   "outputs": [],
   "source": []
  }
 ],
 "metadata": {
  "kernelspec": {
   "display_name": "Python 3",
   "language": "python",
   "name": "python3"
  },
  "language_info": {
   "codemirror_mode": {
    "name": "ipython",
    "version": 3
   },
   "file_extension": ".py",
   "mimetype": "text/x-python",
   "name": "python",
   "nbconvert_exporter": "python",
   "pygments_lexer": "ipython3",
   "version": "3.7.3"
  }
 },
 "nbformat": 4,
 "nbformat_minor": 2
}
