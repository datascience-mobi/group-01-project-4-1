{
 "cells": [
  {
   "cell_type": "code",
   "execution_count": 1,
   "metadata": {},
   "outputs": [
    {
     "data": {
      "text/plain": [
       "(2700, 32738)"
      ]
     },
     "execution_count": 1,
     "metadata": {},
     "output_type": "execute_result"
    }
   ],
   "source": [
    "\n",
    "import time\n",
    "import warnings\n",
    "\n",
    "from copy import deepcopy\n",
    "\n",
    "\n",
    "from sklearn import cluster, datasets, mixture\n",
    "from sklearn.neighbors import kneighbors_graph\n",
    "from sklearn.preprocessing import StandardScaler\n",
    "from sklearn.cluster import KMeans\n",
    "\n",
    "from itertools import cycle, islice\n",
    "\n",
    "import timeit\n",
    "import scanpy as sc\n",
    "import numpy as np\n",
    "import pandas as pd\n",
    "import anndata as ad\n",
    "from matplotlib import pyplot as plt\n",
    "from sklearn.decomposition import PCA\n",
    "adata = sc.read_10x_mtx(\n",
    "    'C:/Users/Computer/Desktop/pbmc3k_filtered_gene_bc_matrices.tar/pbmc3k_filtered_gene_bc_matrices/hg19',  # the directory with the `.mtx` file\n",
    "    var_names='gene_symbols',                  # use gene symbols for the variable names (variables-axis index)\n",
    "    cache=True)   \n",
    "\n",
    "x = adata._X.todense()\n",
    "x.shape #shape of the data"
   ]
  },
  {
   "cell_type": "markdown",
   "metadata": {},
   "source": [
    "# Principal Component Analysis and Data cleanup\n",
    "### 1. Basic Filtering:\n",
    "1. Filter out the cells that express less than 200 genes \n",
    "1. Filter out genes that are expressed in less than 3 cells\n",
    "\n",
    "### 2. mitochondrial DNA:\n",
    "\n",
    "the value of the ratio of mitochondrial DNA and cellular RNA shows how high or low the quality of a cell is. The higher the proportion of mtDNA, the lower the quality of the data. From a biological point of view, more mitochondrial DNA shows that from a e.g. damaged cell, more \"normal\" RNA could be lost through perforations, while the larger mtDNA stays in the cell.\n",
    "\n",
    "   1. calculate the ratio of mtDNA and RNA\n",
    "   1. filter out cells with too high percentages\n"
   ]
  },
  {
   "cell_type": "code",
   "execution_count": 2,
   "metadata": {},
   "outputs": [
    {
     "data": {
      "text/plain": [
       "AnnData object with n_obs × n_vars = 2700 × 13714 \n",
       "    obs: 'n_genes'\n",
       "    var: 'gene_ids', 'n_cells'"
      ]
     },
     "execution_count": 2,
     "metadata": {},
     "output_type": "execute_result"
    }
   ],
   "source": [
    "sc.pp.filter_cells(adata,min_genes=200)#filter cells with minimum 200 expressed genes\n",
    "sc.pp.filter_genes(adata,min_cells=3) #filter genes with at least 3 cells the genes are expressed in\n",
    "adata"
   ]
  },
  {
   "cell_type": "code",
   "execution_count": 3,
   "metadata": {},
   "outputs": [
    {
     "name": "stdout",
     "output_type": "stream",
     "text": [
      "[False False False ... False False False]\n"
     ]
    }
   ],
   "source": [
    "# das Verhältnis zwischen normaler RNA und mitochondrialer DNA sagt etwas über die Integrität der Zellen aus: \n",
    "# Wenn zu viel mtDNA vorhanden ist, dann ist die Zelle wahrscheinlich beschädigt\n",
    "#daher filtern wir die Zellen raus, in denen das Verhältnis verschoben ist\n",
    "mtgenes = adata.var_names.str.startswith('MT-')\n",
    "# das Verhältnis zwischen der mtDNA und der RNA muss berechnet werden\n",
    "print(mtgenes)"
   ]
  },
  {
   "cell_type": "code",
   "execution_count": 5,
   "metadata": {},
   "outputs": [],
   "source": [
    "adata.obs['mito_percent'] = np.sum(adata[:,mtgenes].X, axis = 1).A1/np.sum(adata.X, axis = 1).A1\n",
    "adata.obs['n_counts']=adata.X.sum(axis=1).A1"
   ]
  },
  {
   "cell_type": "code",
   "execution_count": 6,
   "metadata": {},
   "outputs": [],
   "source": [
    "#the elimination \n",
    "adata = adata[adata.obs['n_genes'] < 2500, :]\n",
    "adata = adata[adata.obs['mito_percent'] < 0.05, :]"
   ]
  },
  {
   "cell_type": "code",
   "execution_count": 7,
   "metadata": {},
   "outputs": [],
   "source": [
    "sc.pp.normalize_per_cell(adata, counts_per_cell_after=1e4)"
   ]
  },
  {
   "cell_type": "code",
   "execution_count": 8,
   "metadata": {},
   "outputs": [],
   "source": [
    "sc.pp.log1p(adata)"
   ]
  },
  {
   "cell_type": "code",
   "execution_count": 9,
   "metadata": {},
   "outputs": [],
   "source": [
    "sc.pp.highly_variable_genes(adata, min_mean=0.0125, max_mean=3, min_disp=0.5)"
   ]
  },
  {
   "cell_type": "code",
   "execution_count": 10,
   "metadata": {},
   "outputs": [],
   "source": [
    "adata = adata[:, adata.var['highly_variable']]"
   ]
  },
  {
   "cell_type": "code",
   "execution_count": 11,
   "metadata": {},
   "outputs": [
    {
     "data": {
      "text/plain": [
       "(2638, 1838)"
      ]
     },
     "execution_count": 11,
     "metadata": {},
     "output_type": "execute_result"
    }
   ],
   "source": [
    "adata.shape"
   ]
  },
  {
   "cell_type": "code",
   "execution_count": 12,
   "metadata": {},
   "outputs": [],
   "source": [
    "array1 = np.array(x)"
   ]
  },
  {
   "cell_type": "code",
   "execution_count": 13,
   "metadata": {},
   "outputs": [
    {
     "data": {
      "text/plain": [
       "(2700, 10)"
      ]
     },
     "execution_count": 13,
     "metadata": {},
     "output_type": "execute_result"
    }
   ],
   "source": [
    "pca=PCA(n_components=10)\n",
    "pca1=pca.fit_transform(array1)\n",
    "pca1.shape"
   ]
  },
  {
   "cell_type": "code",
   "execution_count": 14,
   "metadata": {},
   "outputs": [
    {
     "data": {
      "text/plain": [
       "<matplotlib.collections.PathCollection at 0x1ca5fc36908>"
      ]
     },
     "execution_count": 14,
     "metadata": {},
     "output_type": "execute_result"
    },
    {
     "data": {
      "image/png": "[encoded data removed]",
      "text/plain": [
       "<Figure size 432x288 with 1 Axes>"
      ]
     },
     "metadata": {
      "needs_background": "light"
     },
     "output_type": "display_data"
    }
   ],
   "source": [
    "plt.scatter(pca1[:,0], pca1[:,1], s = 5)"
   ]
  },
  {
   "cell_type": "code",
   "execution_count": 20,
   "metadata": {},
   "outputs": [],
   "source": [
    "def dist(a, b, ax=1):\n",
    "    return np.linalg.norm(a - b, axis=ax)\n",
    "X_data = np.array(pca1)\n",
    "n_samples=1000\n"
   ]
  },
  {
   "cell_type": "markdown",
   "metadata": {},
   "source": [
    "k=2\n",
    "  \n",
    "Indecies_centroid = np.random.choice(n_samples,size=k) \n",
    "    \n",
    "C=X_data[Indecies_centroid]\n",
    "\n",
    "plt.scatter(X[:,0],X[:,1],c='black',s=7)\n",
    "plt.scatter(C[:, 0], C[:, 1],marker='*',c='red',s=100)\n",
    "    \n",
    "clusters = np.zeros(len(X))\n",
    "C_old = np.zeros(C.shape)\n",
    "update_centroids = dist(C, C_old) # Konvergenz\n",
    "\n",
    "while update_centroids.all() != 0:\n",
    "    for i in range(len(X)):\n",
    "            distances = dist(C,[X[i]])\n",
    "            cluster = np.argmin(distances)\n",
    "            clusters[i] = cluster\n",
    "    C_old = deepcopy(C)\n",
    "    for i in range(k):\n",
    "        points = [X[j] for j in range(len(X)) if clusters[j] == i]\n",
    "        C[i] = np.mean(points, axis=0)\n",
    "    update_centroids = dist(C, C_old)\n",
    "        \n",
    "fig, ax = plt.subplots()\n",
    "for i in range(k):\n",
    "        points = np.array([X[j] for j in range(len(X)) if clusters[j] == i])\n",
    "        ax.scatter(points[:, 0], points[:, 1], s=7)\n",
    "ax.scatter(C[:, 0], C[:, 1], marker='*', c='black', s=100)"
   ]
  },
  {
   "cell_type": "code",
   "execution_count": 21,
   "metadata": {},
   "outputs": [
    {
     "ename": "ValueError",
     "evalue": "operands could not be broadcast together with shapes (10,) (1,2) ",
     "output_type": "error",
     "traceback": [
      "\u001b[1;31m---------------------------------------------------------------------------\u001b[0m",
      "\u001b[1;31mValueError\u001b[0m                                Traceback (most recent call last)",
      "\u001b[1;32m<ipython-input-21-bc7a75ec6e4e>\u001b[0m in \u001b[0;36m<module>\u001b[1;34m\u001b[0m\n\u001b[0;32m     24\u001b[0m     \u001b[0mListe\u001b[0m \u001b[1;33m=\u001b[0m\u001b[1;33m[\u001b[0m\u001b[1;33m]\u001b[0m\u001b[1;33m\u001b[0m\u001b[1;33m\u001b[0m\u001b[0m\n\u001b[0;32m     25\u001b[0m     \u001b[1;32mfor\u001b[0m \u001b[0mi\u001b[0m \u001b[1;32min\u001b[0m \u001b[0mrange\u001b[0m \u001b[1;33m(\u001b[0m\u001b[0mlen\u001b[0m\u001b[1;33m(\u001b[0m\u001b[0mX_data\u001b[0m\u001b[1;33m)\u001b[0m\u001b[1;33m)\u001b[0m\u001b[1;33m:\u001b[0m\u001b[1;33m\u001b[0m\u001b[1;33m\u001b[0m\u001b[0m\n\u001b[1;32m---> 26\u001b[1;33m         \u001b[0mdiff\u001b[0m\u001b[1;33m=\u001b[0m\u001b[0mX_data\u001b[0m\u001b[1;33m[\u001b[0m\u001b[0mi\u001b[0m\u001b[1;33m]\u001b[0m\u001b[1;33m-\u001b[0m\u001b[0mC2\u001b[0m\u001b[1;33m\u001b[0m\u001b[1;33m\u001b[0m\u001b[0m\n\u001b[0m\u001b[0;32m     27\u001b[0m         \u001b[0mdist\u001b[0m \u001b[1;33m=\u001b[0m \u001b[0mnp\u001b[0m\u001b[1;33m.\u001b[0m\u001b[0mlinalg\u001b[0m\u001b[1;33m.\u001b[0m\u001b[0mnorm\u001b[0m\u001b[1;33m(\u001b[0m\u001b[0mdiff\u001b[0m\u001b[1;33m,\u001b[0m\u001b[0maxis\u001b[0m\u001b[1;33m=\u001b[0m\u001b[1;36m1\u001b[0m\u001b[1;33m)\u001b[0m\u001b[1;33m\u001b[0m\u001b[1;33m\u001b[0m\u001b[0m\n\u001b[0;32m     28\u001b[0m         \u001b[0mmin_dist\u001b[0m\u001b[1;33m=\u001b[0m \u001b[0mnp\u001b[0m\u001b[1;33m.\u001b[0m\u001b[0mmin\u001b[0m\u001b[1;33m(\u001b[0m\u001b[0mdist\u001b[0m\u001b[1;33m)\u001b[0m\u001b[1;33m\u001b[0m\u001b[1;33m\u001b[0m\u001b[0m\n",
      "\u001b[1;31mValueError\u001b[0m: operands could not be broadcast together with shapes (10,) (1,2) "
     ]
    }
   ],
   "source": [
    "C2 = np.random.random((1,2))\n",
    "\n",
    "\n",
    "# distance calculator\n",
    "def dist(a, b, ax=1):\n",
    "    return np.linalg.norm(a - b, axis=ax)\n",
    "   \n",
    "clusters = np.zeros(len(X_data))\n",
    "C_old = np.zeros(C2.shape)\n",
    "error = dist(C2, C_old) \n",
    "\n",
    "data_2 = pd.DataFrame(X_data)\n",
    "data_long = data_2.reset_index().melt(id_vars=\"index\") \n",
    "a = np.array(data_long)\n",
    "index =a[0:n_samples,0] \n",
    "Liste =[] \n",
    "\n",
    "\n",
    "k=3 #Anzahl der Cluster festlegen\n",
    "n=0\n",
    "\n",
    "while n<=k:\n",
    "    n=n+1\n",
    "    Liste =[]\n",
    "    for i in range (len(X_data)):\n",
    "        diff=X_data[i]-C2\n",
    "        dist = np.linalg.norm(diff,axis=1) \n",
    "        min_dist= np.min(dist)\n",
    "        Liste.append(min_dist)\n",
    "    s= np.array(Liste)\n",
    "    dist_2 = (s)**2\n",
    "    prob = (dist_2)/ sum (dist_2) \n",
    "    z=np.random.choice(index, p=prob) \n",
    "    c_neu=X_data[z] \n",
    "    cl = np.ndarray.tolist(C) \n",
    "    c_neul = np.ndarray.tolist (c_neu) \n",
    "    cl.append (c_neul) \n",
    "    C2 = np.array(cl) \n",
    "    \n",
    "while error.all() != 0:\n",
    "    for i in range(len(X_data)):\n",
    "            diff2=X_data[i]-C2\n",
    "            distances = np.linalg.norm(diff2,axis=1) # Distance berechnen\n",
    "            cluster = np.argmin(distances)\n",
    "            clusters[i] = cluster\n",
    "    C_old = deepcopy(C2)\n",
    "    for i in range(k):\n",
    "        points = [X_data[j] for j in range(len(X_data)) if clusters[j] == i]\n",
    "        C2[i] = np.mean(points, axis=0)\n",
    "    diff3 = C2-C_old\n",
    "    error = np.linalg.norm(diff3,axis=1) # Distance berechnen\n",
    "        \n",
    "\n",
    "   \n",
    "colors = ['r', 'g', 'b', 'y', 'c', 'm']\n",
    "fig, ax = plt.subplots()\n",
    "for i in range(k):\n",
    "        points = np.array([X_data[j] for j in range(len(X_data)) if clusters[j] == i])\n",
    "        ax.scatter(points[:, 0], points[:, 1], s=7, c=colors[i])\n",
    "plt.scatter(cx1,cy1,marker='*',c='red',s=100)"
   ]
  },
  {
   "cell_type": "code",
   "execution_count": null,
   "metadata": {},
   "outputs": [],
   "source": []
  }
 ],
 "metadata": {
  "kernelspec": {
   "display_name": "Python 3",
   "language": "python",
   "name": "python3"
  },
  "language_info": {
   "codemirror_mode": {
    "name": "ipython",
    "version": 3
   },
   "file_extension": ".py",
   "mimetype": "text/x-python",
   "name": "python",
   "nbconvert_exporter": "python",
   "pygments_lexer": "ipython3",
   "version": "3.7.3"
  }
 },
 "nbformat": 4,
 "nbformat_minor": 2
}
