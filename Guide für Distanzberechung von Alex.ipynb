{
 "cells": [
  {
   "cell_type": "code",
   "execution_count": 1,
   "metadata": {},
   "outputs": [
    {
     "name": "stdout",
     "output_type": "stream",
     "text": [
      "\n",
      "X:\n",
      " [[0.46831726 0.15990121]\n",
      " [0.80776656 0.14449807]\n",
      " [0.48056012 0.37054238]\n",
      " [0.81449338 0.07546626]\n",
      " [0.16414265 0.05398996]]\n",
      "\n",
      "C:\n",
      " [[0.06235401 0.52615308]\n",
      " [0.25325276 0.22018722]]\n",
      "\n",
      "Distances of X to centroid [0.06235401 0.52615308]:\n",
      "[0.54676008 0.83743681 0.4462186  0.87683079 0.48301028]\n",
      "\n",
      "Distances of X to centroid [0.25325276 0.22018722]:\n",
      "[0.2233543  0.5596556  0.27253497 0.57959916 0.18857927]\n"
     ]
    }
   ],
   "source": [
    "import numpy as np\n",
    "\n",
    "\n",
    "\n",
    "X = np.random.random((5,2)) # 5 points in 2D space\n",
    "\n",
    "print(\"\\nX:\\n\", X)\n",
    "\n",
    "\n",
    "\n",
    "C = np.random.random((2, 2)) # 2 centroids, also in 2D space\n",
    "\n",
    "print(\"\\nC:\\n\", C)\n",
    "\n",
    "     \n",
    "\n",
    "for c in C:\n",
    "\n",
    "   diff = X - c # Difference between X and c\n",
    "\n",
    "   # as c is an only 1D slice of C, is broadcasted over X along axis 0 (up->down)\n",
    "\n",
    "   \n",
    "\n",
    "   dist = np.linalg.norm(\n",
    "\n",
    "       diff, # Apply norm on differences\n",
    "\n",
    "       axis=1 # Apply ONLY along axis 1 (left->right, i.e. the coordinates of each point)\n",
    "\n",
    "   )\n",
    "\n",
    "\n",
    "\n",
    "   print(f\"\\nDistances of X to centroid {c}:\")\n",
    "\n",
    "   print(dist)\n",
    "\n",
    "   "
   ]
  },
  {
   "cell_type": "code",
   "execution_count": null,
   "metadata": {},
   "outputs": [],
   "source": []
  }
 ],
 "metadata": {
  "kernelspec": {
   "display_name": "Python 3",
   "language": "python",
   "name": "python3"
  },
  "language_info": {
   "codemirror_mode": {
    "name": "ipython",
    "version": 3
   },
   "file_extension": ".py",
   "mimetype": "text/x-python",
   "name": "python",
   "nbconvert_exporter": "python",
   "pygments_lexer": "ipython3",
   "version": "3.7.3"
  }
 },
 "nbformat": 4,
 "nbformat_minor": 2
}
