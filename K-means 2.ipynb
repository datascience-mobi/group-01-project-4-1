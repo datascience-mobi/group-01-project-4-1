{
 "cells": [
  {
   "cell_type": "code",
<<<<<<< HEAD
   "execution_count": 52,
   "metadata": {
    "collapsed": true
   },
   "outputs": [
    {
     "ename": "AttributeError",
     "evalue": "to_df not found",
     "output_type": "error",
     "traceback": [
      "\u001b[1;31m---------------------------------------------------------------------------\u001b[0m",
      "\u001b[1;31mAttributeError\u001b[0m                            Traceback (most recent call last)",
      "\u001b[1;32m<ipython-input-52-1479e753b7be>\u001b[0m in \u001b[0;36m<module>\u001b[1;34m\u001b[0m\n\u001b[0;32m      8\u001b[0m \u001b[1;33m\u001b[0m\u001b[0m\n\u001b[0;32m      9\u001b[0m \u001b[0mx\u001b[0m \u001b[1;33m=\u001b[0m \u001b[0mdata\u001b[0m\u001b[1;33m.\u001b[0m\u001b[0m_X\u001b[0m\u001b[1;33m.\u001b[0m\u001b[0mtodense\u001b[0m\u001b[1;33m(\u001b[0m\u001b[1;33m)\u001b[0m\u001b[1;33m\u001b[0m\u001b[1;33m\u001b[0m\u001b[0m\n\u001b[1;32m---> 10\u001b[1;33m \u001b[0mx_df\u001b[0m \u001b[1;33m=\u001b[0m \u001b[0mdata\u001b[0m\u001b[1;33m.\u001b[0m\u001b[0m_X\u001b[0m\u001b[1;33m.\u001b[0m\u001b[0mto_df\u001b[0m\u001b[1;33m(\u001b[0m\u001b[1;33m)\u001b[0m\u001b[1;33m\u001b[0m\u001b[1;33m\u001b[0m\u001b[0m\n\u001b[0m",
      "\u001b[1;32m~\\Anaconda3\\lib\\site-packages\\scipy\\sparse\\base.py\u001b[0m in \u001b[0;36m__getattr__\u001b[1;34m(self, attr)\u001b[0m\n\u001b[0;32m    687\u001b[0m             \u001b[1;32mreturn\u001b[0m \u001b[0mself\u001b[0m\u001b[1;33m.\u001b[0m\u001b[0mgetnnz\u001b[0m\u001b[1;33m(\u001b[0m\u001b[1;33m)\u001b[0m\u001b[1;33m\u001b[0m\u001b[1;33m\u001b[0m\u001b[0m\n\u001b[0;32m    688\u001b[0m         \u001b[1;32melse\u001b[0m\u001b[1;33m:\u001b[0m\u001b[1;33m\u001b[0m\u001b[1;33m\u001b[0m\u001b[0m\n\u001b[1;32m--> 689\u001b[1;33m             \u001b[1;32mraise\u001b[0m \u001b[0mAttributeError\u001b[0m\u001b[1;33m(\u001b[0m\u001b[0mattr\u001b[0m \u001b[1;33m+\u001b[0m \u001b[1;34m\" not found\"\u001b[0m\u001b[1;33m)\u001b[0m\u001b[1;33m\u001b[0m\u001b[1;33m\u001b[0m\u001b[0m\n\u001b[0m\u001b[0;32m    690\u001b[0m \u001b[1;33m\u001b[0m\u001b[0m\n\u001b[0;32m    691\u001b[0m     \u001b[1;32mdef\u001b[0m \u001b[0mtranspose\u001b[0m\u001b[1;33m(\u001b[0m\u001b[0mself\u001b[0m\u001b[1;33m,\u001b[0m \u001b[0maxes\u001b[0m\u001b[1;33m=\u001b[0m\u001b[1;32mNone\u001b[0m\u001b[1;33m,\u001b[0m \u001b[0mcopy\u001b[0m\u001b[1;33m=\u001b[0m\u001b[1;32mFalse\u001b[0m\u001b[1;33m)\u001b[0m\u001b[1;33m:\u001b[0m\u001b[1;33m\u001b[0m\u001b[1;33m\u001b[0m\u001b[0m\n",
      "\u001b[1;31mAttributeError\u001b[0m: to_df not found"
=======
   "execution_count": 1,
   "metadata": {},
   "outputs": [
    {
     "ename": "FileNotFoundError",
     "evalue": "Did not find file C:\\Users\\Computer\\Documents\\GitHub\\project-04-group-01\\filtered_gene_bc_matrices\\hg19\\matrix.mtx.gz.",
     "output_type": "error",
     "traceback": [
      "\u001b[1;31m---------------------------------------------------------------------------\u001b[0m",
      "\u001b[1;31mFileNotFoundError\u001b[0m                         Traceback (most recent call last)",
      "\u001b[1;32m<ipython-input-1-eb408a6265e7>\u001b[0m in \u001b[0;36m<module>\u001b[1;34m\u001b[0m\n\u001b[0;32m      5\u001b[0m     \u001b[1;34m'C:/Users/Computer/Documents/GitHub/project-04-group-01/filtered_gene_bc_matrices/hg19'\u001b[0m\u001b[1;33m,\u001b[0m  \u001b[1;31m# the directory with the `.mtx` file\u001b[0m\u001b[1;33m\u001b[0m\u001b[1;33m\u001b[0m\u001b[0m\n\u001b[0;32m      6\u001b[0m     \u001b[0mvar_names\u001b[0m\u001b[1;33m=\u001b[0m\u001b[1;34m'gene_symbols'\u001b[0m\u001b[1;33m,\u001b[0m                  \u001b[1;31m# use gene symbols for the variable names (variables-axis index)\u001b[0m\u001b[1;33m\u001b[0m\u001b[1;33m\u001b[0m\u001b[0m\n\u001b[1;32m----> 7\u001b[1;33m     cache=True)   \n\u001b[0m\u001b[0;32m      8\u001b[0m \u001b[1;33m\u001b[0m\u001b[0m\n\u001b[0;32m      9\u001b[0m \u001b[0mx\u001b[0m \u001b[1;33m=\u001b[0m \u001b[0mdata\u001b[0m\u001b[1;33m.\u001b[0m\u001b[0m_X\u001b[0m\u001b[1;33m.\u001b[0m\u001b[0mtodense\u001b[0m\u001b[1;33m(\u001b[0m\u001b[1;33m)\u001b[0m\u001b[1;33m\u001b[0m\u001b[1;33m\u001b[0m\u001b[0m\n",
      "\u001b[1;32m~\\Anaconda3\\envs\\kmeans\\lib\\site-packages\\scanpy\\readwrite.py\u001b[0m in \u001b[0;36mread_10x_mtx\u001b[1;34m(path, var_names, make_unique, cache, gex_only)\u001b[0m\n\u001b[0;32m    245\u001b[0m         \u001b[0mvar_names\u001b[0m\u001b[1;33m=\u001b[0m\u001b[0mvar_names\u001b[0m\u001b[1;33m,\u001b[0m\u001b[1;33m\u001b[0m\u001b[1;33m\u001b[0m\u001b[0m\n\u001b[0;32m    246\u001b[0m         \u001b[0mmake_unique\u001b[0m\u001b[1;33m=\u001b[0m\u001b[0mmake_unique\u001b[0m\u001b[1;33m,\u001b[0m\u001b[1;33m\u001b[0m\u001b[1;33m\u001b[0m\u001b[0m\n\u001b[1;32m--> 247\u001b[1;33m         \u001b[0mcache\u001b[0m\u001b[1;33m=\u001b[0m\u001b[0mcache\u001b[0m\u001b[1;33m,\u001b[0m\u001b[1;33m\u001b[0m\u001b[1;33m\u001b[0m\u001b[0m\n\u001b[0m\u001b[0;32m    248\u001b[0m     )\n\u001b[0;32m    249\u001b[0m     \u001b[1;32mif\u001b[0m \u001b[0mgenefile_exists\u001b[0m \u001b[1;32mor\u001b[0m \u001b[1;32mnot\u001b[0m \u001b[0mgex_only\u001b[0m\u001b[1;33m:\u001b[0m\u001b[1;33m\u001b[0m\u001b[1;33m\u001b[0m\u001b[0m\n",
      "\u001b[1;32m~\\Anaconda3\\envs\\kmeans\\lib\\site-packages\\scanpy\\readwrite.py\u001b[0m in \u001b[0;36m_read_v3_10x_mtx\u001b[1;34m(path, var_names, make_unique, cache)\u001b[0m\n\u001b[0;32m    281\u001b[0m     \"\"\"\n\u001b[0;32m    282\u001b[0m     \u001b[0mpath\u001b[0m \u001b[1;33m=\u001b[0m \u001b[0mPath\u001b[0m\u001b[1;33m(\u001b[0m\u001b[0mpath\u001b[0m\u001b[1;33m)\u001b[0m\u001b[1;33m\u001b[0m\u001b[1;33m\u001b[0m\u001b[0m\n\u001b[1;32m--> 283\u001b[1;33m     \u001b[0madata\u001b[0m \u001b[1;33m=\u001b[0m \u001b[0mread\u001b[0m\u001b[1;33m(\u001b[0m\u001b[0mpath\u001b[0m \u001b[1;33m/\u001b[0m \u001b[1;34m'matrix.mtx.gz'\u001b[0m\u001b[1;33m,\u001b[0m \u001b[0mcache\u001b[0m\u001b[1;33m=\u001b[0m\u001b[0mcache\u001b[0m\u001b[1;33m)\u001b[0m\u001b[1;33m.\u001b[0m\u001b[0mT\u001b[0m  \u001b[1;31m# transpose the data\u001b[0m\u001b[1;33m\u001b[0m\u001b[1;33m\u001b[0m\u001b[0m\n\u001b[0m\u001b[0;32m    284\u001b[0m     \u001b[0mgenes\u001b[0m \u001b[1;33m=\u001b[0m \u001b[0mpd\u001b[0m\u001b[1;33m.\u001b[0m\u001b[0mread_csv\u001b[0m\u001b[1;33m(\u001b[0m\u001b[0mpath\u001b[0m \u001b[1;33m/\u001b[0m \u001b[1;34m'features.tsv.gz'\u001b[0m\u001b[1;33m,\u001b[0m \u001b[0mheader\u001b[0m\u001b[1;33m=\u001b[0m\u001b[1;32mNone\u001b[0m\u001b[1;33m,\u001b[0m \u001b[0msep\u001b[0m\u001b[1;33m=\u001b[0m\u001b[1;34m'\\t'\u001b[0m\u001b[1;33m)\u001b[0m\u001b[1;33m\u001b[0m\u001b[1;33m\u001b[0m\u001b[0m\n\u001b[0;32m    285\u001b[0m     \u001b[1;32mif\u001b[0m \u001b[0mvar_names\u001b[0m \u001b[1;33m==\u001b[0m \u001b[1;34m'gene_symbols'\u001b[0m\u001b[1;33m:\u001b[0m\u001b[1;33m\u001b[0m\u001b[1;33m\u001b[0m\u001b[0m\n",
      "\u001b[1;32m~\\Anaconda3\\envs\\kmeans\\lib\\site-packages\\scanpy\\readwrite.py\u001b[0m in \u001b[0;36mread\u001b[1;34m(filename, backed, sheet, ext, delimiter, first_column_names, backup_url, cache, **kwargs)\u001b[0m\n\u001b[0;32m     77\u001b[0m         return _read(filename, backed=backed, sheet=sheet, ext=ext,\n\u001b[0;32m     78\u001b[0m                      \u001b[0mdelimiter\u001b[0m\u001b[1;33m=\u001b[0m\u001b[0mdelimiter\u001b[0m\u001b[1;33m,\u001b[0m \u001b[0mfirst_column_names\u001b[0m\u001b[1;33m=\u001b[0m\u001b[0mfirst_column_names\u001b[0m\u001b[1;33m,\u001b[0m\u001b[1;33m\u001b[0m\u001b[1;33m\u001b[0m\u001b[0m\n\u001b[1;32m---> 79\u001b[1;33m                      backup_url=backup_url, cache=cache, **kwargs)\n\u001b[0m\u001b[0;32m     80\u001b[0m     \u001b[1;31m# generate filename and read to dict\u001b[0m\u001b[1;33m\u001b[0m\u001b[1;33m\u001b[0m\u001b[1;33m\u001b[0m\u001b[0m\n\u001b[0;32m     81\u001b[0m     \u001b[0mfilekey\u001b[0m \u001b[1;33m=\u001b[0m \u001b[0mfilename\u001b[0m\u001b[1;33m\u001b[0m\u001b[1;33m\u001b[0m\u001b[0m\n",
      "\u001b[1;32m~\\Anaconda3\\envs\\kmeans\\lib\\site-packages\\scanpy\\readwrite.py\u001b[0m in \u001b[0;36m_read\u001b[1;34m(filename, backed, sheet, ext, delimiter, first_column_names, backup_url, cache, suppress_cache_warning, **kwargs)\u001b[0m\n\u001b[0;32m    450\u001b[0m     \u001b[1;32melse\u001b[0m\u001b[1;33m:\u001b[0m\u001b[1;33m\u001b[0m\u001b[1;33m\u001b[0m\u001b[0m\n\u001b[0;32m    451\u001b[0m         \u001b[1;32mif\u001b[0m \u001b[1;32mnot\u001b[0m \u001b[0mis_present\u001b[0m\u001b[1;33m:\u001b[0m\u001b[1;33m\u001b[0m\u001b[1;33m\u001b[0m\u001b[0m\n\u001b[1;32m--> 452\u001b[1;33m             \u001b[1;32mraise\u001b[0m \u001b[0mFileNotFoundError\u001b[0m\u001b[1;33m(\u001b[0m\u001b[1;34m'Did not find file {}.'\u001b[0m\u001b[1;33m.\u001b[0m\u001b[0mformat\u001b[0m\u001b[1;33m(\u001b[0m\u001b[0mfilename\u001b[0m\u001b[1;33m)\u001b[0m\u001b[1;33m)\u001b[0m\u001b[1;33m\u001b[0m\u001b[1;33m\u001b[0m\u001b[0m\n\u001b[0m\u001b[0;32m    453\u001b[0m         \u001b[0mlogg\u001b[0m\u001b[1;33m.\u001b[0m\u001b[0mmsg\u001b[0m\u001b[1;33m(\u001b[0m\u001b[1;34m'reading'\u001b[0m\u001b[1;33m,\u001b[0m \u001b[0mfilename\u001b[0m\u001b[1;33m,\u001b[0m \u001b[0mv\u001b[0m\u001b[1;33m=\u001b[0m\u001b[1;36m4\u001b[0m\u001b[1;33m)\u001b[0m\u001b[1;33m\u001b[0m\u001b[1;33m\u001b[0m\u001b[0m\n\u001b[0;32m    454\u001b[0m         \u001b[1;32mif\u001b[0m \u001b[1;32mnot\u001b[0m \u001b[0mcache\u001b[0m \u001b[1;32mand\u001b[0m \u001b[1;32mnot\u001b[0m \u001b[0msuppress_cache_warning\u001b[0m\u001b[1;33m:\u001b[0m\u001b[1;33m\u001b[0m\u001b[1;33m\u001b[0m\u001b[0m\n",
      "\u001b[1;31mFileNotFoundError\u001b[0m: Did not find file C:\\Users\\Computer\\Documents\\GitHub\\project-04-group-01\\filtered_gene_bc_matrices\\hg19\\matrix.mtx.gz."
>>>>>>> 4146942f21331fd7f12b65487150559a5034c409
     ]
    }
   ],
   "source": [
    "import scanpy as sc\n",
    "import numpy as np\n",
    "\n",
    "data = sc.read_10x_mtx(\n",
    "    'C:/Users/Computer/Documents/GitHub/project-04-group-01/filtered_gene_bc_matrices/hg19',  # the directory with the `.mtx` file\n",
    "    var_names='gene_symbols',                  # use gene symbols for the variable names (variables-axis index)\n",
    "    cache=True)   \n",
    "\n",
    "x = data._X.todense()"
   ]
  },
  {
   "cell_type": "code",
<<<<<<< HEAD
   "execution_count": 53,
=======
   "execution_count": 3,
>>>>>>> 4146942f21331fd7f12b65487150559a5034c409
   "metadata": {},
   "outputs": [],
   "source": [
    "x_df = data.to_df()"
   ]
  },
  {
   "cell_type": "code",
   "execution_count": 54,
   "metadata": {},
   "outputs": [
    {
     "data": {
      "text/html": [
       "<div>\n",
       "<style scoped>\n",
       "    .dataframe tbody tr th:only-of-type {\n",
       "        vertical-align: middle;\n",
       "    }\n",
       "\n",
       "    .dataframe tbody tr th {\n",
       "        vertical-align: top;\n",
       "    }\n",
       "\n",
       "    .dataframe thead th {\n",
       "        text-align: right;\n",
       "    }\n",
       "</style>\n",
       "<table border=\"1\" class=\"dataframe\">\n",
       "  <thead>\n",
       "    <tr style=\"text-align: right;\">\n",
       "      <th></th>\n",
       "      <th>MIR1302-10</th>\n",
       "      <th>FAM138A</th>\n",
       "      <th>OR4F5</th>\n",
       "      <th>RP11-34P13.7</th>\n",
       "      <th>RP11-34P13.8</th>\n",
       "      <th>AL627309.1</th>\n",
       "      <th>RP11-34P13.14</th>\n",
       "      <th>RP11-34P13.9</th>\n",
       "      <th>AP006222.2</th>\n",
       "      <th>RP4-669L17.10</th>\n",
       "      <th>...</th>\n",
       "      <th>KIR3DL2-1</th>\n",
       "      <th>AL590523.1</th>\n",
       "      <th>CT476828.1</th>\n",
       "      <th>PNRC2-1</th>\n",
       "      <th>SRSF10-1</th>\n",
       "      <th>AC145205.1</th>\n",
       "      <th>BAGE5</th>\n",
       "      <th>CU459201.1</th>\n",
       "      <th>AC002321.2</th>\n",
       "      <th>AC002321.1</th>\n",
       "    </tr>\n",
       "    <tr>\n",
       "      <th>0</th>\n",
       "      <th></th>\n",
       "      <th></th>\n",
       "      <th></th>\n",
       "      <th></th>\n",
       "      <th></th>\n",
       "      <th></th>\n",
       "      <th></th>\n",
       "      <th></th>\n",
       "      <th></th>\n",
       "      <th></th>\n",
       "      <th></th>\n",
       "      <th></th>\n",
       "      <th></th>\n",
       "      <th></th>\n",
       "      <th></th>\n",
       "      <th></th>\n",
       "      <th></th>\n",
       "      <th></th>\n",
       "      <th></th>\n",
       "      <th></th>\n",
       "      <th></th>\n",
       "    </tr>\n",
       "  </thead>\n",
       "  <tbody>\n",
       "    <tr>\n",
       "      <th>AAACATACAACCAC-1</th>\n",
       "      <td>0.0</td>\n",
       "      <td>0.0</td>\n",
       "      <td>0.0</td>\n",
       "      <td>0.0</td>\n",
       "      <td>0.0</td>\n",
       "      <td>0.0</td>\n",
       "      <td>0.0</td>\n",
       "      <td>0.0</td>\n",
       "      <td>0.0</td>\n",
       "      <td>0.0</td>\n",
       "      <td>...</td>\n",
       "      <td>0.0</td>\n",
       "      <td>0.0</td>\n",
       "      <td>0.0</td>\n",
       "      <td>0.0</td>\n",
       "      <td>0.0</td>\n",
       "      <td>0.0</td>\n",
       "      <td>0.0</td>\n",
       "      <td>0.0</td>\n",
       "      <td>0.0</td>\n",
       "      <td>0.0</td>\n",
       "    </tr>\n",
       "    <tr>\n",
       "      <th>AAACATTGAGCTAC-1</th>\n",
       "      <td>0.0</td>\n",
       "      <td>0.0</td>\n",
       "      <td>0.0</td>\n",
       "      <td>0.0</td>\n",
       "      <td>0.0</td>\n",
       "      <td>0.0</td>\n",
       "      <td>0.0</td>\n",
       "      <td>0.0</td>\n",
       "      <td>0.0</td>\n",
       "      <td>0.0</td>\n",
       "      <td>...</td>\n",
       "      <td>0.0</td>\n",
       "      <td>0.0</td>\n",
       "      <td>0.0</td>\n",
       "      <td>0.0</td>\n",
       "      <td>0.0</td>\n",
       "      <td>0.0</td>\n",
       "      <td>0.0</td>\n",
       "      <td>0.0</td>\n",
       "      <td>0.0</td>\n",
       "      <td>0.0</td>\n",
       "    </tr>\n",
       "    <tr>\n",
       "      <th>AAACATTGATCAGC-1</th>\n",
       "      <td>0.0</td>\n",
       "      <td>0.0</td>\n",
       "      <td>0.0</td>\n",
       "      <td>0.0</td>\n",
       "      <td>0.0</td>\n",
       "      <td>0.0</td>\n",
       "      <td>0.0</td>\n",
       "      <td>0.0</td>\n",
       "      <td>0.0</td>\n",
       "      <td>0.0</td>\n",
       "      <td>...</td>\n",
       "      <td>0.0</td>\n",
       "      <td>0.0</td>\n",
       "      <td>0.0</td>\n",
       "      <td>0.0</td>\n",
       "      <td>0.0</td>\n",
       "      <td>0.0</td>\n",
       "      <td>0.0</td>\n",
       "      <td>0.0</td>\n",
       "      <td>0.0</td>\n",
       "      <td>0.0</td>\n",
       "    </tr>\n",
       "    <tr>\n",
       "      <th>AAACCGTGCTTCCG-1</th>\n",
       "      <td>0.0</td>\n",
       "      <td>0.0</td>\n",
       "      <td>0.0</td>\n",
       "      <td>0.0</td>\n",
       "      <td>0.0</td>\n",
       "      <td>0.0</td>\n",
       "      <td>0.0</td>\n",
       "      <td>0.0</td>\n",
       "      <td>0.0</td>\n",
       "      <td>0.0</td>\n",
       "      <td>...</td>\n",
       "      <td>0.0</td>\n",
       "      <td>0.0</td>\n",
       "      <td>0.0</td>\n",
       "      <td>0.0</td>\n",
       "      <td>0.0</td>\n",
       "      <td>0.0</td>\n",
       "      <td>0.0</td>\n",
       "      <td>0.0</td>\n",
       "      <td>0.0</td>\n",
       "      <td>0.0</td>\n",
       "    </tr>\n",
       "    <tr>\n",
       "      <th>AAACCGTGTATGCG-1</th>\n",
       "      <td>0.0</td>\n",
       "      <td>0.0</td>\n",
       "      <td>0.0</td>\n",
       "      <td>0.0</td>\n",
       "      <td>0.0</td>\n",
       "      <td>0.0</td>\n",
       "      <td>0.0</td>\n",
       "      <td>0.0</td>\n",
       "      <td>0.0</td>\n",
       "      <td>0.0</td>\n",
       "      <td>...</td>\n",
       "      <td>0.0</td>\n",
       "      <td>0.0</td>\n",
       "      <td>0.0</td>\n",
       "      <td>0.0</td>\n",
       "      <td>0.0</td>\n",
       "      <td>0.0</td>\n",
       "      <td>0.0</td>\n",
       "      <td>0.0</td>\n",
       "      <td>0.0</td>\n",
       "      <td>0.0</td>\n",
       "    </tr>\n",
       "  </tbody>\n",
       "</table>\n",
       "<p>5 rows × 32738 columns</p>\n",
       "</div>"
      ],
      "text/plain": [
       "                  MIR1302-10  FAM138A  OR4F5  RP11-34P13.7  RP11-34P13.8  \\\n",
       "0                                                                          \n",
       "AAACATACAACCAC-1         0.0      0.0    0.0           0.0           0.0   \n",
       "AAACATTGAGCTAC-1         0.0      0.0    0.0           0.0           0.0   \n",
       "AAACATTGATCAGC-1         0.0      0.0    0.0           0.0           0.0   \n",
       "AAACCGTGCTTCCG-1         0.0      0.0    0.0           0.0           0.0   \n",
       "AAACCGTGTATGCG-1         0.0      0.0    0.0           0.0           0.0   \n",
       "\n",
       "                  AL627309.1  RP11-34P13.14  RP11-34P13.9  AP006222.2  \\\n",
       "0                                                                       \n",
       "AAACATACAACCAC-1         0.0            0.0           0.0         0.0   \n",
       "AAACATTGAGCTAC-1         0.0            0.0           0.0         0.0   \n",
       "AAACATTGATCAGC-1         0.0            0.0           0.0         0.0   \n",
       "AAACCGTGCTTCCG-1         0.0            0.0           0.0         0.0   \n",
       "AAACCGTGTATGCG-1         0.0            0.0           0.0         0.0   \n",
       "\n",
       "                  RP4-669L17.10  ...  KIR3DL2-1  AL590523.1  CT476828.1  \\\n",
       "0                                ...                                      \n",
       "AAACATACAACCAC-1            0.0  ...        0.0         0.0         0.0   \n",
       "AAACATTGAGCTAC-1            0.0  ...        0.0         0.0         0.0   \n",
       "AAACATTGATCAGC-1            0.0  ...        0.0         0.0         0.0   \n",
       "AAACCGTGCTTCCG-1            0.0  ...        0.0         0.0         0.0   \n",
       "AAACCGTGTATGCG-1            0.0  ...        0.0         0.0         0.0   \n",
       "\n",
       "                  PNRC2-1  SRSF10-1  AC145205.1  BAGE5  CU459201.1  \\\n",
       "0                                                                    \n",
       "AAACATACAACCAC-1      0.0       0.0         0.0    0.0         0.0   \n",
       "AAACATTGAGCTAC-1      0.0       0.0         0.0    0.0         0.0   \n",
       "AAACATTGATCAGC-1      0.0       0.0         0.0    0.0         0.0   \n",
       "AAACCGTGCTTCCG-1      0.0       0.0         0.0    0.0         0.0   \n",
       "AAACCGTGTATGCG-1      0.0       0.0         0.0    0.0         0.0   \n",
       "\n",
       "                  AC002321.2  AC002321.1  \n",
       "0                                         \n",
       "AAACATACAACCAC-1         0.0         0.0  \n",
       "AAACATTGAGCTAC-1         0.0         0.0  \n",
       "AAACATTGATCAGC-1         0.0         0.0  \n",
       "AAACCGTGCTTCCG-1         0.0         0.0  \n",
       "AAACCGTGTATGCG-1         0.0         0.0  \n",
       "\n",
       "[5 rows x 32738 columns]"
      ]
     },
     "execution_count": 54,
     "metadata": {},
     "output_type": "execute_result"
    }
   ],
   "source": [
    "x_df.head()"
   ]
  },
  {
   "cell_type": "code",
   "execution_count": 36,
   "metadata": {
    "scrolled": true
   },
   "outputs": [
    {
     "ename": "NameError",
     "evalue": "name 'data' is not defined",
     "output_type": "error",
     "traceback": [
      "\u001b[1;31m---------------------------------------------------------------------------\u001b[0m",
      "\u001b[1;31mNameError\u001b[0m                                 Traceback (most recent call last)",
      "\u001b[1;32m<ipython-input-3-25a56bb3f532>\u001b[0m in \u001b[0;36m<module>\u001b[1;34m\u001b[0m\n\u001b[1;32m----> 1\u001b[1;33m \u001b[0mprint\u001b[0m\u001b[1;33m(\u001b[0m\u001b[0mdata\u001b[0m\u001b[1;33m.\u001b[0m\u001b[0mshape\u001b[0m\u001b[1;33m)\u001b[0m\u001b[1;33m\u001b[0m\u001b[1;33m\u001b[0m\u001b[0m\n\u001b[0m",
      "\u001b[1;31mNameError\u001b[0m: name 'data' is not defined"
     ]
    }
   ],
   "source": [
    "# print(data.shape)"
   ]
  },
  {
   "cell_type": "code",
   "execution_count": 41,
   "metadata": {},
   "outputs": [],
   "source": [
    "from sklearn.cluster import KMeans\n",
    "import numpy as np\n",
    "from matplotlib import pyplot as plt\n",
    "import pandas as pd"
   ]
  },
  {
   "cell_type": "code",
   "execution_count": 42,
   "metadata": {},
   "outputs": [
    {
     "name": "stdout",
     "output_type": "stream",
     "text": [
      "[[202. 332.]\n",
      " [220. 196.]\n",
      " [ 60.  47.]\n",
      " [179. 121.]\n",
      " [ 12. 372.]\n",
      " [268. 253.]\n",
      " [214. 222.]\n",
      " [ 14. 317.]\n",
      " [335. 247.]]\n"
     ]
    }
   ],
   "source": [
    "#chosing number of clusters\n",
    "k = 9 \n",
    "# X coordinates of random centroids\n",
    "C_x = np.random.randint(0, np.max(x)-20, size=k)\n",
    "#Y coordinates of random centroids\n",
    "C_y = np.random.randint(0, np.max(x)-20, size=k)\n",
    "C = np.array(list(zip(C_x,C_y)), dtype=np.float32)\n",
    "print(C)"
   ]
  },
  {
   "cell_type": "code",
   "execution_count": 43,
   "metadata": {},
   "outputs": [
    {
     "data": {
      "text/plain": [
       "<matplotlib.collections.PathCollection at 0x29c8b1970f0>"
      ]
     },
     "execution_count": 43,
     "metadata": {},
     "output_type": "execute_result"
    },
    {
     "data": {
      "image/png": "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\n",
      "text/plain": [
       "<Figure size 432x288 with 1 Axes>"
      ]
     },
     "metadata": {
      "needs_background": "light"
     },
     "output_type": "display_data"
    }
   ],
   "source": [
    "plt.scatter(C_x, C_y, c='black', s=7)"
   ]
  },
  {
   "cell_type": "code",
   "execution_count": 64,
   "metadata": {},
   "outputs": [
    {
     "data": {
      "text/plain": [
       "count    2700.000000\n",
       "mean        0.005185\n",
       "std         0.085925\n",
       "min         0.000000\n",
       "25%         0.000000\n",
       "50%         0.000000\n",
       "75%         0.000000\n",
       "max         3.000000\n",
       "Name: RP3-395M20.9, dtype: float64"
      ]
     },
     "execution_count": 64,
     "metadata": {},
     "output_type": "execute_result"
    }
   ],
   "source": [
    "x_df.iloc[:, 123].describe()"
   ]
  },
  {
   "cell_type": "code",
   "execution_count": 65,
   "metadata": {},
   "outputs": [
    {
     "data": {
      "text/plain": [
       "<matplotlib.collections.PathCollection at 0x29c90de58d0>"
      ]
     },
     "execution_count": 65,
     "metadata": {},
     "output_type": "execute_result"
    },
    {
     "data": {
      "image/png": "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\n",
      "text/plain": [
       "<Figure size 432x288 with 1 Axes>"
      ]
     },
     "metadata": {
      "needs_background": "light"
     },
     "output_type": "display_data"
    }
   ],
   "source": [
    "#MALAT1 TMSB4X\n",
    "f1 = x_df.iloc[:, 5].values\n",
    "f2 = x_df.iloc[:, 123].values\n",
    "U = np.array(list(zip(f1, f2)))\n",
    "plt.scatter(f1, f2, c= 'red', s=7)"
   ]
  },
  {
   "cell_type": "code",
   "execution_count": 66,
   "metadata": {},
   "outputs": [],
   "source": [
    "import seaborn as sns"
   ]
  },
  {
   "cell_type": "code",
   "execution_count": 72,
   "metadata": {},
   "outputs": [
    {
     "data": {
      "text/plain": [
       "<matplotlib.axes._subplots.AxesSubplot at 0x29c90610748>"
      ]
     },
     "execution_count": 72,
     "metadata": {},
     "output_type": "execute_result"
    },
    {
     "data": {
      "image/png": "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\n",
      "text/plain": [
       "<Figure size 432x288 with 1 Axes>"
      ]
     },
     "metadata": {
      "needs_background": "light"
     },
     "output_type": "display_data"
    }
   ],
   "source": [
    "sns.scatterplot(f1, f2, s=50, alpha=.3)\n"
   ]
  },
  {
   "cell_type": "code",
   "execution_count": 46,
   "metadata": {},
   "outputs": [
    {
     "data": {
      "text/plain": [
       "<matplotlib.collections.PathCollection at 0x29c827aa358>"
      ]
     },
     "execution_count": 46,
     "metadata": {},
     "output_type": "execute_result"
    },
    {
     "data": {
      "image/png": "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\n",
      "text/plain": [
       "<Figure size 432x288 with 1 Axes>"
      ]
     },
     "metadata": {
      "needs_background": "light"
     },
     "output_type": "display_data"
    }
   ],
   "source": [
    "plt.scatter(C_x, C_y, marker = '*', s=200, c='g')"
   ]
  },
  {
   "cell_type": "code",
   "execution_count": 49,
   "metadata": {},
   "outputs": [
    {
     "ename": "IndentationError",
     "evalue": "expected an indented block (<ipython-input-49-40766c364dcb>, line 10)",
     "output_type": "error",
     "traceback": [
      "\u001b[1;36m  File \u001b[1;32m\"<ipython-input-49-40766c364dcb>\"\u001b[1;36m, line \u001b[1;32m10\u001b[0m\n\u001b[1;33m    distances = dist(x[i], C)\u001b[0m\n\u001b[1;37m            ^\u001b[0m\n\u001b[1;31mIndentationError\u001b[0m\u001b[1;31m:\u001b[0m expected an indented block\n"
     ]
    }
   ],
   "source": [
    "C_old = np.zeros(C.shape) #to store the value of centroids when it updates\n",
    "#cluster labels (0 bis 9)\n",
    "clusters = np.zeros(len(x))\n",
    "#distance func. - Distance between new centroids and old centroids\n",
    "dist_C = dist(C, C_old, None)\n",
    "#Loop will run untill the distance becomes zero\n",
    "while dist_C != 0:\n",
    "    #Assigning each value to its closests cluster\n",
    "    for i in range(len(x)):\n",
    "    distances = dist(x[i], C)\n",
    "    cluster = np.argmin(distances)\n",
    "    cluster[i] = cluster\n",
    "    #Storing the old centroid values\n",
    "C_old = deepcopy(C)\n",
    "#Finding the new centroids by taking the average value\n",
    "for i in range(k):\n",
    "    points = [X[j]for j in range(len(x)) if clusters[j] == i]\n",
    "    C[i] = np.mean(points, axis=0)\n",
    "    error = dist(C, C_old, None)\n",
    "    \n",
    "    "
   ]
  }
 ],
 "metadata": {
  "kernelspec": {
   "display_name": "Python 3",
   "language": "python",
   "name": "python3"
  },
  "language_info": {
   "codemirror_mode": {
    "name": "ipython",
    "version": 3
   },
   "file_extension": ".py",
   "mimetype": "text/x-python",
   "name": "python",
   "nbconvert_exporter": "python",
   "pygments_lexer": "ipython3",
   "version": "3.7.3"
  }
 },
 "nbformat": 4,
 "nbformat_minor": 2
}
