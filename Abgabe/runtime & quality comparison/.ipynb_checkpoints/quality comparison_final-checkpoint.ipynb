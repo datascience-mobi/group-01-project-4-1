{
 "cells": [
  {
   "cell_type": "code",
   "execution_count": 1,
   "metadata": {},
   "outputs": [],
   "source": [
    "import time\n",
    "import warnings\n",
    "\n",
    "from copy import deepcopy\n",
    "\n",
    "import numpy as np\n",
    "import matplotlib.pyplot as plt\n",
    "\n",
    "from sklearn import cluster, datasets, mixture\n",
    "from sklearn.neighbors import kneighbors_graph\n",
    "from sklearn.preprocessing import StandardScaler\n",
    "from sklearn.cluster import KMeans\n",
    "\n",
    "from itertools import cycle, islice\n",
    "\n",
    "import timeit"
   ]
  },
  {
   "cell_type": "code",
   "execution_count": 2,
   "metadata": {},
   "outputs": [],
   "source": [
    "# distance calculator\n",
    "\n",
    "def dist(a, b, ax=1):\n",
    "    return np.linalg.norm(a - b, axis=ax)\n",
    "\n"
   ]
  },
  {
   "cell_type": "code",
   "execution_count": 3,
   "metadata": {},
   "outputs": [],
   "source": [
    "n_samples=5000\n"
   ]
  },
  {
   "cell_type": "code",
   "execution_count": 4,
   "metadata": {},
   "outputs": [
    {
     "data": {
      "image/png": "[encoded data removed]",
      "text/plain": [
       "<Figure size 432x288 with 1 Axes>"
      ]
     },
     "metadata": {
      "needs_background": "light"
     },
     "output_type": "display_data"
    }
   ],
   "source": [
    "blobs = datasets.make_blobs(n_samples=n_samples, random_state=15)\n",
    "\n",
    "points_blobs=blobs[0]\n",
    "\n",
    "f1=points_blobs[0:((n_samples)), 0]\n",
    "f2=points_blobs[0:((n_samples)), 1]\n",
    "\n",
    "plt.scatter(f1, f2, c='black', s=7)\n",
    "\n",
    "X = np.array(list(zip(f1, f2)))"
   ]
  },
  {
   "cell_type": "code",
   "execution_count": 5,
   "metadata": {},
   "outputs": [
    {
     "name": "stdout",
     "output_type": "stream",
     "text": [
      "[35848.125789     0.           0.           0.      ]\n",
      "[35848.125789   15312.84765406     0.             0.        ]\n",
      "[35848.125789   15312.84765406  8097.54927701     0.        ]\n",
      "[35848.125789   15312.84765406  8097.54927701  5054.35727923]\n"
     ]
    }
   ],
   "source": [
    "\n",
    "k_all=(2,3,5,10) # hier kann man die Anzahl an k, die man vergleichen will, einfach eingeben\n",
    "\n",
    "WSS_own = np.zeros(4)\n",
    "\n",
    "for l in range(4):\n",
    "    k=k_all[l]\n",
    "    \n",
    "    times_to_repeat = 10\n",
    "\n",
    "    sum_WSS = 0\n",
    "    \n",
    "    \n",
    "    for j in range (times_to_repeat):\n",
    "\n",
    "\n",
    "        start_time = timeit.default_timer()\n",
    "\n",
    "\n",
    "        Indecies_centroid = np.random.choice(n_samples,size=k) # for initialization we choose some random datapoint in order to avoid that no data points were assigned to random centroid\n",
    "\n",
    "\n",
    "        C=X[Indecies_centroid]\n",
    "\n",
    "        clusters = np.zeros(len(X))\n",
    "        C_old = np.zeros(C.shape)\n",
    "        error = dist(C, C_old) # Konvergenz\n",
    "        from copy import deepcopy\n",
    "\n",
    "        while error.all() != 0:\n",
    "            for i in range(len(X)):\n",
    "                    distances = dist(C,[X[i]])\n",
    "                    cluster = np.argmin(distances)\n",
    "                    clusters[i] = cluster\n",
    "            C_old = deepcopy(C)\n",
    "            for i in range(k):\n",
    "                points = [X[j] for j in range(len(X)) if clusters[j] == i]\n",
    "                C[i] = np.mean(points, axis=0)\n",
    "            error = dist(C, C_old)\n",
    "\n",
    "\n",
    "        \n",
    "        WSS=0\n",
    "\n",
    "        for j in range(len(X)):\n",
    "        \n",
    "            WSS += dist(X[j],C[int(clusters[j])], ax = 0)**2\n",
    "  \n",
    "        sum_WSS=sum_WSS+WSS\n",
    "    \n",
    "    average_WSS= (sum_WSS/times_to_repeat)\n",
    "    \n",
    "      \n",
    "    \n",
    "    WSS_own[l]=average_WSS\n",
    "   \n",
    "    print(WSS_own)\n",
    "        \n",
    "\n"
   ]
  },
  {
   "cell_type": "code",
   "execution_count": 6,
   "metadata": {},
   "outputs": [
    {
     "name": "stdout",
     "output_type": "stream",
     "text": [
      "[35848.125789   10075.93421772  7888.7264801   4251.24467729]\n"
     ]
    }
   ],
   "source": [
    "n_clusters=(2,3,5,10)\n",
    "\n",
    "WSS_scikit = np.zeros(4)\n",
    "\n",
    "for l in range(4):\n",
    "\n",
    "    times_to_repeat = 10\n",
    "\n",
    "    sum_WSS = 0\n",
    "\n",
    "    for i in range (times_to_repeat):\n",
    "        \n",
    "        \n",
    "\n",
    "        start_time = timeit.default_timer()\n",
    "\n",
    "        kmeans = KMeans(n_clusters[l])\n",
    "\n",
    "\n",
    "        a = kmeans.fit_predict(X)\n",
    "        kmeans.inertia_\n",
    "       \n",
    "        \n",
    "        sum_WSS=sum_WSS+kmeans.inertia_\n",
    "    \n",
    "        average_WSS= sum_WSS/times_to_repeat\n",
    "    \n",
    "        WSS_scikit[l]=average_WSS\n",
    "\n",
    "\n",
    "print(WSS_scikit)\n",
    "        \n",
    "    \n",
    "\n",
    "   \n"
   ]
  },
  {
   "cell_type": "code",
   "execution_count": 51,
   "metadata": {},
   "outputs": [
    {
     "data": {
      "image/png": "[encoded data removed]",
      "text/plain": [
       "<Figure size 432x288 with 1 Axes>"
      ]
     },
     "metadata": {
      "needs_background": "light"
     },
     "output_type": "display_data"
    }
   ],
   "source": [
    "## hab hier alles so angepasst, dass Beschriftungen alle automatisch passen, je nach dem wie man n_samples, k etc verändert hat\n",
    "\n",
    "# data to plot\n",
    "n_groups = 4\n",
    "means_own = (WSS_own)\n",
    "means_scikit = (WSS_scikit)\n",
    "\n",
    "# create plot\n",
    "fig, ax = plt.subplots()\n",
    "index = np.arange(n_groups)\n",
    "bar_width = 0.35\n",
    "opacity = 0.8\n",
    "\n",
    "rects1 = plt.bar(index, means_own, bar_width,\n",
    "alpha=opacity,\n",
    "color='b',\n",
    "label='own implementation')\n",
    "\n",
    "rects2 = plt.bar(index + bar_width, means_scikit, bar_width,\n",
    "alpha=opacity,\n",
    "color='g',\n",
    "label='Scikit learn implementation')\n",
    "\n",
    "plt.xlabel('k')\n",
    "plt.ylabel('average sum of squared distances within all clusters')\n",
    "plt.title('quality comparison, blobs , n=' +  str(n_samples))\n",
    "plt.xticks(index + bar_width, (k_all))\n",
    "plt.legend()\n",
    "\n",
    "plt.tight_layout()\n",
    "plt.show()\n"
   ]
  },
  {
   "cell_type": "code",
   "execution_count": null,
   "metadata": {},
   "outputs": [],
   "source": []
  }
 ],
 "metadata": {
  "kernelspec": {
   "display_name": "Python 3",
   "language": "python",
   "name": "python3"
  },
  "language_info": {
   "codemirror_mode": {
    "name": "ipython",
    "version": 3
   },
   "file_extension": ".py",
   "mimetype": "text/x-python",
   "name": "python",
   "nbconvert_exporter": "python",
   "pygments_lexer": "ipython3",
   "version": "3.7.3"
  }
 },
 "nbformat": 4,
 "nbformat_minor": 2
}
